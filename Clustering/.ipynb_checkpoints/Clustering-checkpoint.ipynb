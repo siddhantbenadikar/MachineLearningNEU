{
 "cells": [
  {
   "cell_type": "code",
   "execution_count": 1,
   "metadata": {
    "collapsed": true
   },
   "outputs": [],
   "source": [
    "import numpy as np\n",
    "import pandas as pd\n",
    "import matplotlib.pyplot as plt\n",
    "import scipy.io as sio\n",
    "from operator import itemgetter\n",
    "import sklearn.decomposition\n",
    "from sklearn.neighbors import NearestNeighbors"
   ]
  },
  {
   "cell_type": "markdown",
   "metadata": {},
   "source": [
    "### General helper functions"
   ]
  },
  {
   "cell_type": "code",
   "execution_count": 2,
   "metadata": {
    "collapsed": true
   },
   "outputs": [],
   "source": [
    "# Loading data and transforming it to pandas dataframe\n",
    "def load_data(path, col_name):\n",
    "    data = sio.loadmat(path)\n",
    "    data = pd.DataFrame(data['Y'])\n",
    "    return data"
   ]
  },
  {
   "cell_type": "code",
   "execution_count": 3,
   "metadata": {
    "collapsed": true
   },
   "outputs": [],
   "source": [
    "# Plot the data\n",
    "def plotClusterOutput(Y, x1, x2):\n",
    "    f1 = np.ravel(Y[x1, :])\n",
    "    f2 = np.ravel(Y[x2, :])\n",
    "    plt.scatter(f1, f2, c='blue', s=7)\n",
    "    plt.show()\n",
    "\n",
    "def plot_data(X, data_centers):\n",
    "   \n",
    "    # Add cluster centers to data points\n",
    "    C = np.matrix(data_centers).T\n",
    "    X = np.hstack((X, C))\n",
    "    data = pd.DataFrame(X, columns=['x1', 'x2', 'c'])\n",
    "   \n",
    "    fig, ax = plt.subplots(figsize=(12,8))\n",
    "   \n",
    "    # Draw the plots\n",
    "    ax.scatter(data.x1, data.x2, label='Data', c=data.c * 10)\n",
    "   \n",
    "    # Set extra properties for readability\n",
    "    ax.legend(loc=2)\n",
    "    ax.set_xlabel('x1')\n",
    "    ax.set_ylabel('x2')\n",
    "    ax.set_title('x1 vs. x2')"
   ]
  },
  {
   "cell_type": "markdown",
   "metadata": {},
   "source": [
    "### Helper functions for K-means"
   ]
  },
  {
   "cell_type": "code",
   "execution_count": 4,
   "metadata": {
    "collapsed": true
   },
   "outputs": [],
   "source": [
    "# Assigns each data point to a centroid\n",
    "def assignment(X, centroids):\n",
    "    C = dict.fromkeys(range(X.shape[0]), np.inf)\n",
    "    Z = {}\n",
    "    for i in centroids.keys():\n",
    "        for j in range(X.shape[0]):\n",
    "            \n",
    "            # Euclidean dist\n",
    "            dist = abs(np.linalg.norm(X[j] - centroids[i]))\n",
    "            \n",
    "            # Change assignment if dist is lesser than previous\n",
    "            if dist < C[j]:\n",
    "                C[j] = dist\n",
    "                Z[j] = i\n",
    "    return Z"
   ]
  },
  {
   "cell_type": "code",
   "execution_count": 5,
   "metadata": {
    "collapsed": true
   },
   "outputs": [],
   "source": [
    "# Updates the centroids \n",
    "def update(centroids, X, Z):\n",
    "    for i in centroids.keys():\n",
    "        temp = []\n",
    "        for j in range(X.shape[0]):\n",
    "            if Z[j] == i:\n",
    "                temp.append(X[j])\n",
    "        centroids[i] = np.mean(temp, axis=0)\n",
    "    return centroids"
   ]
  },
  {
   "cell_type": "code",
   "execution_count": 6,
   "metadata": {
    "collapsed": true
   },
   "outputs": [],
   "source": [
    "# Computes the cost after new centroid assignment\n",
    "def compute_cost(centroids, X, Z):\n",
    "    cost = 0\n",
    "    for i in centroids.keys():\n",
    "        temp = []\n",
    "        for j in range(X.shape[0]):\n",
    "            if Z[j] == i:\n",
    "                temp.append(X[j])\n",
    "                \n",
    "        for k in range(len(temp)): \n",
    "            cost += abs(np.linalg.norm(temp[k] - centroids[i]))\n",
    "    return cost"
   ]
  },
  {
   "cell_type": "markdown",
   "metadata": {},
   "source": [
    "### K-means"
   ]
  },
  {
   "cell_type": "code",
   "execution_count": 7,
   "metadata": {
    "collapsed": true
   },
   "outputs": [],
   "source": [
    "def k_means(X, k, r):\n",
    "    # Initialize metadata\n",
    "    X = X.T\n",
    "    clustering_run = {}\n",
    "    tol = 0.00001\n",
    "    \n",
    "    # Iterate over given r\n",
    "    for itr in range(r):\n",
    "        cost = [np.inf]\n",
    "        \n",
    "        # Initialize random centroids\n",
    "        centroids = {}\n",
    "        rand = np.random.choice(len(X), k, replace=False)\n",
    "        for i in range(len(rand)):\n",
    "            centroids[i] = X[i, :]\n",
    "        \n",
    "        # Loop till you converge\n",
    "        while True:\n",
    "            # Alternate between assignment and update\n",
    "            Z = assignment(X, centroids)\n",
    "            centroids = update(centroids, X, Z)\n",
    "            new_Z = assignment(X, centroids)\n",
    "            cost.append(compute_cost(centroids, X, new_Z))\n",
    "            \n",
    "            # if change in cost is less than tol the break\n",
    "            if cost[-2] - cost[-1] == 0:\n",
    "                break\n",
    "                \n",
    "        clustering_run[cost[-1]] = new_Z\n",
    "        \n",
    "    return min(clustering_run.items(), key=itemgetter(0))[1]\n"
   ]
  },
  {
   "cell_type": "markdown",
   "metadata": {},
   "source": [
    "### Helper functions for Spectral clustering"
   ]
  },
  {
   "cell_type": "code",
   "execution_count": 8,
   "metadata": {
    "collapsed": true
   },
   "outputs": [],
   "source": [
    "def Gaussian(x, z, variance):\n",
    "    return np.exp((-(np.linalg.norm(x - z) ** 2)) / (2 * variance))"
   ]
  },
  {
   "cell_type": "code",
   "execution_count": 9,
   "metadata": {
    "collapsed": true
   },
   "outputs": [],
   "source": [
    "def GaussianKernel(X, variance):\n",
    "    length = X.shape[0]\n",
    "    K = np.zeros((length, length))\n",
    "    \n",
    "    for i in range(length):\n",
    "        for j in range(length):\n",
    "            K[i][j] = Gaussian(X[i], X[j], variance)\n",
    "    return K"
   ]
  },
  {
   "cell_type": "code",
   "execution_count": 10,
   "metadata": {
    "collapsed": true
   },
   "outputs": [],
   "source": [
    "def generate_W(X, KNN, variance):\n",
    "    X = X.T\n",
    "    neigh = NearestNeighbors(n_neighbors=KNN)\n",
    "    neighbors = neigh.fit(X)\n",
    "    _, indices = neighbors.kneighbors(X)\n",
    "    length = X.shape[0]\n",
    "    W = np.zeros((length, length))\n",
    "    for index in indices:\n",
    "        current_index = index[0]\n",
    "        current_point = X[current_index]\n",
    "        for j in range(1, len(index)):\n",
    "            neighbor_index = index[j]\n",
    "            neighbor = X[neighbor_index]\n",
    "            gaussian_dist = Gaussian(current_point, neighbor, variance)\n",
    "            W[current_index][neighbor_index] = gaussian_dist\n",
    "            W[neighbor_index][current_index] = gaussian_dist\n",
    "    return W"
   ]
  },
  {
   "cell_type": "markdown",
   "metadata": {},
   "source": [
    "### Specteral Clustering"
   ]
  },
  {
   "cell_type": "code",
   "execution_count": 11,
   "metadata": {
    "collapsed": true
   },
   "outputs": [],
   "source": [
    "def spectral(W, k):\n",
    "    # Compute Diagonal matrix D\n",
    "    D = np.diag(np.sum(W, axis=0))\n",
    "    \n",
    "    # Compute Laplace matrix L\n",
    "    L = D - W\n",
    "    \n",
    "    # Eigen vector decomposition of L\n",
    "    lam, V = np.linalg.eig(L)\n",
    "\n",
    "    # Get k bottom eigen vectors of W\n",
    "    bottom_eig = np.argsort(lam)\n",
    "    bottom_eig = bottom_eig[:k]\n",
    "    \n",
    "    V1 = np.matrix(V[:,bottom_eig[0]]).T\n",
    "    V2 = np.matrix(V[:,bottom_eig[1]]).T\n",
    "    top_V = np.concatenate((V1, V2), axis=1)\n",
    "    return k_means(top_V.T, k, 5)"
   ]
  },
  {
   "cell_type": "markdown",
   "metadata": {},
   "source": [
    "### PCA for plotting"
   ]
  },
  {
   "cell_type": "code",
   "execution_count": 12,
   "metadata": {
    "collapsed": true
   },
   "outputs": [],
   "source": [
    "# Normalizes the data to get the mean to 0\n",
    "def normalize_mean(Y):\n",
    "    mu = Y.mean(0)\n",
    "    Y = Y - mu\n",
    "    return Y\n",
    "\n",
    "def pca(Y, d):\n",
    "    Y = Y.T\n",
    "\n",
    "    # Normalize mean\n",
    "    Y = normalize_mean(Y)\n",
    "\n",
    "    # Find the correlation matrix\n",
    "    C = (Y.T * Y) / Y.shape[0]\n",
    "\n",
    "    # Do eigenvalue decomposition get the\n",
    "    # eigenvalues(W) and eigenvectors(V) of \n",
    "    # covariance matrix\n",
    "    W, V = np.linalg.eig(C)\n",
    "\n",
    "    # Extract the top-d eigenvectors\n",
    "    V = V[:, 0:d]\n",
    "    \n",
    "    # Represent data in this basis\n",
    "    X = Y * V\n",
    "    \n",
    "    # Calculate the mean of low-dimensional space\n",
    "    M_X = np.sum(X, axis=0) / X.shape[0]\n",
    "    \n",
    "    return V.T, M_X, X.T"
   ]
  },
  {
   "cell_type": "markdown",
   "metadata": {},
   "source": [
    "#### MAIN"
   ]
  },
  {
   "cell_type": "code",
   "execution_count": 13,
   "metadata": {
    "collapsed": true
   },
   "outputs": [],
   "source": [
    "def main():\n",
    "    data = load_data(\"HW3_Data/dataset2.mat\", 'Y')\n",
    "    X = np.matrix(data.values)\n",
    "    Z = k_means(X, 2, 15)\n",
    "    output = []\n",
    "    # Get the output values from Z\n",
    "    for key in Z:\n",
    "        output.append(Z[key])\n",
    "    U, mean, X_pca = pca(X, 2)\n",
    "    plot_data(X_pca.T, output)\n",
    "    \n",
    "    \n",
    "    # Spectral Clustering\n",
    "    W = generate_W(X, 5, 0.4)\n",
    "    Z_s = spectral(W, 2)\n",
    "    output = []\n",
    "    for key in Z_s:\n",
    "        output.append(Z_s[key])\n",
    "    plot_data(X_pca.T, output)"
   ]
  },
  {
   "cell_type": "code",
   "execution_count": 14,
   "metadata": {},
   "outputs": [
    {
     "name": "stdout",
     "output_type": "stream",
     "text": [
      "(200, 200)\n",
      "(200, 1)\n",
      "(200, 1)\n",
      "(200, 2)\n"
     ]
    }
   ],
   "source": [
    "if __name__ == '__main__':\n",
    "    main()"
   ]
  },
  {
   "cell_type": "code",
   "execution_count": null,
   "metadata": {
    "collapsed": true
   },
   "outputs": [],
   "source": []
  }
 ],
 "metadata": {
  "kernelspec": {
   "display_name": "Python 3",
   "language": "python",
   "name": "python3"
  },
  "language_info": {
   "codemirror_mode": {
    "name": "ipython",
    "version": 3
   },
   "file_extension": ".py",
   "mimetype": "text/x-python",
   "name": "python",
   "nbconvert_exporter": "python",
   "pygments_lexer": "ipython3",
   "version": "3.6.1"
  }
 },
 "nbformat": 4,
 "nbformat_minor": 2
}
