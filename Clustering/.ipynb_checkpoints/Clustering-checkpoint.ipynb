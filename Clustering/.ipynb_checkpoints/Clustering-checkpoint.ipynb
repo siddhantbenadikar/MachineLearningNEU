{
 "cells": [
  {
   "cell_type": "code",
   "execution_count": 1,
   "metadata": {
    "collapsed": true
   },
   "outputs": [],
   "source": [
    "import numpy as np\n",
    "import pandas as pd\n",
    "import matplotlib.pyplot as plt\n",
    "import scipy.io as sio\n",
    "from operator import itemgetter\n",
    "%matplotlib inline"
   ]
  },
  {
   "cell_type": "markdown",
   "metadata": {},
   "source": [
    "### Helper functions"
   ]
  },
  {
   "cell_type": "code",
   "execution_count": 2,
   "metadata": {
    "collapsed": true
   },
   "outputs": [],
   "source": [
    "# Loading data and transforming it to pandas dataframe\n",
    "def load_data(path, col_name):\n",
    "    data = sio.loadmat(path)\n",
    "    data = pd.DataFrame(data['Y'])\n",
    "    return data"
   ]
  },
  {
   "cell_type": "code",
   "execution_count": 3,
   "metadata": {
    "collapsed": true
   },
   "outputs": [],
   "source": [
    "# Getting the values and plotting it\n",
    "def plotCluster(Y, x1, x2):\n",
    "    f1 = np.ravel(Y[x1, :])\n",
    "    f2 = np.ravel(Y[x2, :])\n",
    "    plt.scatter(f1, f2, c='blue', s=7)\n",
    "    plt.show()"
   ]
  },
  {
   "cell_type": "code",
   "execution_count": 4,
   "metadata": {},
   "outputs": [],
   "source": [
    "# Assigns each data point to a centroid\n",
    "def assignment(X, centroids):\n",
    "    C = dict.fromkeys(range(X.shape[0]), np.inf)\n",
    "    Z = {}\n",
    "    for i in centroids.keys():\n",
    "        for j in range(X.shape[0]):\n",
    "            \n",
    "            # Euclidean dist\n",
    "            dist = abs(np.linalg.norm(X[j] - centroids[i]))\n",
    "            \n",
    "            # Change assignment if dist is lesser than previous\n",
    "            if dist < C[j]:\n",
    "                C[j] = dist\n",
    "                Z[j] = i\n",
    "    return Z"
   ]
  },
  {
   "cell_type": "code",
   "execution_count": 5,
   "metadata": {
    "collapsed": true
   },
   "outputs": [],
   "source": [
    "# Updates the centroids \n",
    "def update(centroids, X, Z):\n",
    "    for i in centroids.keys():\n",
    "        temp = []\n",
    "        for j in range(X.shape[0]):\n",
    "            if Z[j] == i:\n",
    "                temp.append(X[j])\n",
    "        centroids[i] = np.mean(temp, axis=0)\n",
    "    return centroids"
   ]
  },
  {
   "cell_type": "code",
   "execution_count": 6,
   "metadata": {
    "collapsed": true
   },
   "outputs": [],
   "source": [
    "def compute_cost(centroids, X, Z):\n",
    "    cost = 0\n",
    "    for i in centroids.keys():\n",
    "        temp = []\n",
    "        for j in range(X.shape[0]):\n",
    "            if Z[j] == i:\n",
    "                temp.append(X[j])\n",
    "                \n",
    "        for k in range(len(temp)): \n",
    "            cost += abs(np.linalg.norm(temp[k] - centroids[i]))\n",
    "    return cost"
   ]
  },
  {
   "cell_type": "markdown",
   "metadata": {},
   "source": [
    "### K-means"
   ]
  },
  {
   "cell_type": "code",
   "execution_count": 7,
   "metadata": {
    "collapsed": true
   },
   "outputs": [],
   "source": [
    "def k_means(X, k, r):\n",
    "    # Initialize metadata\n",
    "    X = X.T\n",
    "    clustering_run = {}\n",
    "    tol = 0.01\n",
    "    \n",
    "    # Iterate over given r\n",
    "    for itr in range(r):\n",
    "        cost = [np.inf]\n",
    "        \n",
    "        # Initialize random centroids\n",
    "        centroids = {}\n",
    "        rand = np.random.choice(len(X), k, replace=False)\n",
    "        for i in range(len(rand)):\n",
    "            centroids[i] = X[i, :]\n",
    "        \n",
    "        # Loop till you converge\n",
    "        while True:\n",
    "            # Alternate between assignment and update\n",
    "            Z = assignment(X, centroids)\n",
    "            centroids = update(centroids, X, Z)\n",
    "            new_Z = assignment(X, centroids)\n",
    "            cost.append(compute_cost(centroids, X, new_Z))\n",
    "            \n",
    "            # if change in cost is less than tol the break\n",
    "            if cost[-2] - cost[-1] < tol and cost[-2] - cost[-1] > 0:\n",
    "                break\n",
    "        \n",
    "        clustering_run[cost[-1]] = new_Z\n",
    "        \n",
    "    return min(clustering_run.items(), key=itemgetter(0))[1]\n"
   ]
  },
  {
   "cell_type": "code",
   "execution_count": 8,
   "metadata": {},
   "outputs": [
    {
     "name": "stdout",
     "output_type": "stream",
     "text": [
      "{0: 0, 1: 1, 2: 0, 3: 0, 4: 1, 5: 0, 6: 1, 7: 0, 8: 1, 9: 1, 10: 0, 11: 1, 12: 1, 13: 0, 14: 1, 15: 1, 16: 0, 17: 0, 18: 1, 19: 0, 20: 1, 21: 0, 22: 0, 23: 0, 24: 0, 25: 1, 26: 0, 27: 1, 28: 1, 29: 1, 30: 1, 31: 1, 32: 0, 33: 0, 34: 0, 35: 1, 36: 1, 37: 1, 38: 1, 39: 1, 40: 1, 41: 1, 42: 1, 43: 1, 44: 0, 45: 0, 46: 1, 47: 0, 48: 1, 49: 1, 50: 0, 51: 1, 52: 0, 53: 0, 54: 0, 55: 0, 56: 1, 57: 1, 58: 1, 59: 1, 60: 0, 61: 1, 62: 1, 63: 0, 64: 1, 65: 0, 66: 0, 67: 1, 68: 1, 69: 0, 70: 1, 71: 1, 72: 1, 73: 0, 74: 0, 75: 1, 76: 1, 77: 0, 78: 1, 79: 1, 80: 0, 81: 1, 82: 0, 83: 1, 84: 1, 85: 0, 86: 0, 87: 1, 88: 1, 89: 1, 90: 1, 91: 1, 92: 1, 93: 0, 94: 0, 95: 0, 96: 1, 97: 0, 98: 0, 99: 1, 100: 2, 101: 2, 102: 2, 103: 2, 104: 2, 105: 2, 106: 2, 107: 2, 108: 0, 109: 2, 110: 2, 111: 2, 112: 2, 113: 2, 114: 2, 115: 0, 116: 2, 117: 2, 118: 2, 119: 2, 120: 2, 121: 2, 122: 2, 123: 2, 124: 2, 125: 2, 126: 2, 127: 2, 128: 2, 129: 2, 130: 2, 131: 2, 132: 2, 133: 2, 134: 2, 135: 0, 136: 2, 137: 2, 138: 2, 139: 2, 140: 2, 141: 2, 142: 2, 143: 2, 144: 2, 145: 2, 146: 2, 147: 2, 148: 2, 149: 2, 150: 2, 151: 2, 152: 2, 153: 2, 154: 2, 155: 2, 156: 2, 157: 2, 158: 2, 159: 2, 160: 2, 161: 2, 162: 2, 163: 2, 164: 2, 165: 2, 166: 2, 167: 2, 168: 2, 169: 2, 170: 2, 171: 2, 172: 2, 173: 2, 174: 2, 175: 2, 176: 0, 177: 2, 178: 2, 179: 2, 180: 2, 181: 2, 182: 2, 183: 2, 184: 2, 185: 2, 186: 2, 187: 2, 188: 2, 189: 2, 190: 2, 191: 2, 192: 2, 193: 2, 194: 2, 195: 2, 196: 2, 197: 2, 198: 2, 199: 2}\n"
     ]
    }
   ],
   "source": [
    "data = load_data(\"HW3_Data/dataset1.mat\", 'Y')\n",
    "X = np.matrix(data.values)\n",
    "Z = k_means(X, 3, 10)\n",
    "print(Z)"
   ]
  }
 ],
 "metadata": {
  "kernelspec": {
   "display_name": "Python 3",
   "language": "python",
   "name": "python3"
  },
  "language_info": {
   "codemirror_mode": {
    "name": "ipython",
    "version": 3
   },
   "file_extension": ".py",
   "mimetype": "text/x-python",
   "name": "python",
   "nbconvert_exporter": "python",
   "pygments_lexer": "ipython3",
   "version": "3.6.1"
  }
 },
 "nbformat": 4,
 "nbformat_minor": 2
}
