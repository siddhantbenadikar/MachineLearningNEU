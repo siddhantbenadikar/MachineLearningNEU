{
 "cells": [
  {
   "cell_type": "markdown",
   "metadata": {
    "collapsed": true
   },
   "source": [
    "## LOGISTIC REGRESSION"
   ]
  },
  {
   "cell_type": "code",
   "execution_count": 96,
   "metadata": {
    "collapsed": true
   },
   "outputs": [],
   "source": [
    "import numpy as np\n",
    "import pandas as pd\n",
    "import matplotlib.pyplot as plt\n",
    "import scipy.io as scio"
   ]
  },
  {
   "cell_type": "code",
   "execution_count": 97,
   "metadata": {
    "collapsed": true
   },
   "outputs": [],
   "source": [
    "data = scio.loadmat('HW2_Data/data1')"
   ]
  },
  {
   "cell_type": "code",
   "execution_count": 98,
   "metadata": {},
   "outputs": [],
   "source": [
    "X_trn = np.insert(data['X_trn'], 0, 1, axis=1)\n",
    "y_trn = data['Y_trn']\n",
    "X_tst = np.insert(data['X_tst'], 0, 1, axis=1)\n",
    "y_tst = data['Y_tst']"
   ]
  },
  {
   "cell_type": "code",
   "execution_count": 99,
   "metadata": {},
   "outputs": [],
   "source": [
    "X_train = np.matrix(X_trn)\n",
    "y_train = np.matrix(y_trn)\n",
    "X_test = np.matrix(X_tst)\n",
    "y_test = np.matrix(y_tst)\n",
    "theta = np.matrix(np.zeros(3))"
   ]
  },
  {
   "cell_type": "code",
   "execution_count": 100,
   "metadata": {},
   "outputs": [],
   "source": [
    "def sigmoid(x):\n",
    "    '''Sigmoid function of x.'''\n",
    "    return 1/(1+np.exp(-x))"
   ]
  },
  {
   "cell_type": "code",
   "execution_count": 101,
   "metadata": {
    "collapsed": true
   },
   "outputs": [],
   "source": [
    "def computeCost(X, y, theta, l):\n",
    "    y_hat = sigmoid(X*theta.T)\n",
    "    m = len(X)\n",
    "    reg = l * np.sum(np.power(theta[:, 1:theta.shape[1]], 2))\n",
    "    cost = (-1/m) * (y.T*np.log(y_hat) + (1-y).T*(np.log(1-y_hat))) + reg\n",
    "    return cost"
   ]
  },
  {
   "cell_type": "code",
   "execution_count": 102,
   "metadata": {
    "collapsed": true
   },
   "outputs": [],
   "source": [
    "def plotPrediction(X, y, theta, title = 'train set'):\n",
    "    X = np.concatenate((X, y), axis=1)\n",
    "    X = np.array(X)\n",
    "    X1 = X[np.ix_(X[:, 3] == 0, (1,2))]\n",
    "    X2 = X[np.ix_(X[:, 3] == 1, (1,2))]\n",
    "    minimum = np.floor(X2.min())\n",
    "    maximum = np.ceil(X2.max())\n",
    "    plt.scatter(X1[:, 0], X1[:, 1], marker='+', color=\"blue\", label=\"Class 0\")\n",
    "    plt.scatter(X2[:, 0], X2[:, 1], marker='o', color=\"green\", label=\"Class 1\")\n",
    "    x = np.linspace(-3, 3, 10)\n",
    "    theta=np.array(theta)\n",
    "    slope = -theta[:,1]/theta[:,2]\n",
    "    intercept = -theta[:, 0]/theta[:,2]\n",
    "    y_pred = slope*x + intercept\n",
    "    plt.ylim(minimum, maximum)\n",
    "    plt.plot(x, y_pred, color='red', label=\"Boundary\")\n",
    "    plt.title(title)\n",
    "    plt.legend()\n",
    "    plt.show()"
   ]
  },
  {
   "cell_type": "code",
   "execution_count": 103,
   "metadata": {
    "collapsed": true
   },
   "outputs": [],
   "source": [
    "def ridgeSGD(X, y, theta, alpha, minibatch_size, threshold, l):\n",
    "    temp = np.matrix(np.zeros(theta.shape))\n",
    "    parameters = theta.ravel().shape[1]\n",
    "    cost = [np.inf]\n",
    "    i = 1\n",
    "\n",
    "    while True:\n",
    "        for k in range(len(X) // minibatch_size):\n",
    "            index_list = np.random.choice(len(X), size=minibatch_size, replace=False)\n",
    "            X_batch = X[index_list]\n",
    "            y_batch = y[index_list]\n",
    "            error = sigmoid(X_batch * theta.T) - y_batch\n",
    "            \n",
    "            for j in range(parameters):\n",
    "                term = np.multiply(error, X_batch[:,j]) + np.multiply(l, theta)\n",
    "                temp[0,j] = theta[0,j] - ((alpha / len(X_batch)) * np.sum(term))\n",
    "\n",
    "            theta = temp\n",
    "            \n",
    "        cost.append(computeCost(X, y, theta, l))\n",
    "        if cost[-2] - cost[-1] < threshold and cost[-2] - cost[-1] > 0:\n",
    "            break\n",
    "            \n",
    "        if i % 50 == 0:\n",
    "            print(\"Loss iter\",i,\": \",cost[-1])\n",
    "        i += 1\n",
    "        \n",
    "    return theta, cost"
   ]
  },
  {
   "cell_type": "code",
   "execution_count": 104,
   "metadata": {
    "collapsed": true
   },
   "outputs": [],
   "source": [
    "def kFoldCV(X, y, fold, alpha, theta, m, precision):\n",
    "    lam = np.arange(0.01, 0.1, 0.01)\n",
    "    cost_lam = {}\n",
    "    for l in lam:\n",
    "        cost = 0\n",
    "        items = int(len(X)/fold)\n",
    "        if len(X)%fold != 0:\n",
    "            items += 1\n",
    "        for i in range(0,fold-1):\n",
    "            data = np.concatenate((X, y), axis=1)\n",
    "            np.random.shuffle(data)\n",
    "            data_hold = data[i*items:(i+1)*items]\n",
    "            data_train = np.delete(data, data_hold, axis=0)\n",
    "            cols = data_train.shape[1]\n",
    "            X_train = np.matrix(data_train[:, 0:cols-1])\n",
    "            y_train = np.matrix(data_train[:, cols-1:])\n",
    "            theta, _ = ridgeSGD(X_train, y_train, theta, alpha, m, precision, l)\n",
    "            X_hold = np.matrix(data_hold[:, 0:cols-1])\n",
    "            y_hold = np.matrix(data_hold[:, cols-1:])\n",
    "            cost = cost + computeCost(X_hold, y_hold, theta, l)\n",
    "        avg_cost= cost/fold\n",
    "        cost_lam[l] = avg_cost\n",
    "        best_lam = min(cost_lam, key=lambda k: cost_lam[k])\n",
    "    return best_lam"
   ]
  },
  {
   "cell_type": "code",
   "execution_count": 105,
   "metadata": {
    "scrolled": false
   },
   "outputs": [
    {
     "name": "stderr",
     "output_type": "stream",
     "text": [
      "/Users/siddhantbenadikar/anaconda/lib/python3.6/site-packages/ipykernel_launcher.py:13: DeprecationWarning: using a non-integer array as obj in delete will result in an error in the future\n",
      "  del sys.path[0]\n",
      "/Users/siddhantbenadikar/anaconda/lib/python3.6/site-packages/ipykernel_launcher.py:13: FutureWarning: in the future negative indices will not be ignored by `numpy.delete`.\n",
      "  del sys.path[0]\n"
     ]
    },
    {
     "name": "stdout",
     "output_type": "stream",
     "text": [
      "Loss iter 50 :  [[ 0.18093708]]\n",
      "Loss iter 100 :  [[ 0.21285273]]\n",
      "Loss iter 150 :  [[ 0.23751427]]\n",
      "Loss iter 200 :  [[ 0.25863733]]\n",
      "Loss iter 250 :  [[ 0.27655974]]\n",
      "Loss iter 50 :  [[ 0.74702663]]\n",
      "Loss iter 100 :  [[ 0.78151336]]\n",
      "Loss iter 150 :  [[ 0.8147938]]\n",
      "Loss iter 200 :  [[ 0.84598118]]\n",
      "Loss iter 250 :  [[ 0.87675571]]\n",
      "Loss iter 300 :  [[ 0.90771293]]\n",
      "Loss iter 350 :  [[ 0.93723522]]\n",
      "Loss iter 400 :  [[ 0.96609853]]\n",
      "Loss iter 450 :  [[ 0.99421558]]\n",
      "Loss iter 500 :  [[ 1.02161363]]\n",
      "Loss iter 550 :  [[ 1.048693]]\n",
      "Loss iter 600 :  [[ 1.07518697]]\n",
      "Loss iter 650 :  [[ 1.10122147]]\n",
      "Loss iter 700 :  [[ 1.12597786]]\n",
      "Loss iter 750 :  [[ 1.15186734]]\n",
      "Loss iter 800 :  [[ 1.17647804]]\n",
      "Loss iter 850 :  [[ 1.20102673]]\n",
      "Loss iter 900 :  [[ 1.22482156]]\n",
      "Loss iter 950 :  [[ 1.24868622]]\n",
      "Loss iter 1000 :  [[ 1.27188526]]\n",
      "Loss iter 1050 :  [[ 1.29490869]]\n",
      "Loss iter 1100 :  [[ 1.31750214]]\n",
      "Loss iter 1150 :  [[ 1.34017188]]\n",
      "Loss iter 1200 :  [[ 1.36300849]]\n",
      "Loss iter 1250 :  [[ 1.38460211]]\n",
      "Loss iter 1300 :  [[ 1.40625484]]\n",
      "Loss iter 1350 :  [[ 1.42803372]]\n",
      "Loss iter 1400 :  [[ 1.4492755]]\n",
      "Loss iter 1450 :  [[ 1.47083187]]\n",
      "Loss iter 1500 :  [[ 1.49222593]]\n",
      "Loss iter 1550 :  [[ 1.51321638]]\n",
      "Loss iter 1600 :  [[ 1.53381174]]\n",
      "Loss iter 1650 :  [[ 1.55467677]]\n",
      "Loss iter 1700 :  [[ 1.57488204]]\n",
      "Loss iter 1750 :  [[ 1.59475635]]\n",
      "Loss iter 1800 :  [[ 1.61521728]]\n",
      "Loss iter 1850 :  [[ 1.63516593]]\n",
      "Loss iter 1900 :  [[ 1.65557289]]\n",
      "Loss iter 1950 :  [[ 1.67538829]]\n",
      "Loss iter 2000 :  [[ 1.69474611]]\n",
      "Loss iter 2050 :  [[ 1.71405624]]\n",
      "Loss iter 2100 :  [[ 1.73198131]]\n",
      "Loss iter 2150 :  [[ 1.75205883]]\n",
      "Loss iter 2200 :  [[ 1.77078868]]\n",
      "Loss iter 2250 :  [[ 1.78941646]]\n",
      "Loss iter 2300 :  [[ 1.80792359]]\n",
      "Loss iter 2350 :  [[ 1.82648459]]\n",
      "Loss iter 2400 :  [[ 1.84545252]]\n",
      "Loss iter 2450 :  [[ 1.86340038]]\n",
      "Loss iter 2500 :  [[ 1.88131817]]\n",
      "Loss iter 2550 :  [[ 1.89898371]]\n",
      "Loss iter 2600 :  [[ 1.91727951]]\n",
      "Loss iter 2650 :  [[ 1.93503279]]\n",
      "Loss iter 2700 :  [[ 1.95310577]]\n",
      "Loss iter 2750 :  [[ 1.97121189]]\n",
      "Loss iter 2800 :  [[ 1.98950876]]\n",
      "Loss iter 2850 :  [[ 2.00733634]]\n",
      "Loss iter 2900 :  [[ 2.0247507]]\n",
      "Loss iter 2950 :  [[ 2.04154971]]\n",
      "Loss iter 3000 :  [[ 2.05847763]]\n",
      "Loss iter 3050 :  [[ 2.0760597]]\n",
      "Loss iter 3100 :  [[ 2.09339434]]\n",
      "Loss iter 3150 :  [[ 2.11071424]]\n",
      "Loss iter 3200 :  [[ 2.12726804]]\n",
      "Loss iter 3250 :  [[ 2.14309358]]\n",
      "Loss iter 3300 :  [[ 2.16030284]]\n",
      "Loss iter 3350 :  [[ 2.17626949]]\n",
      "Loss iter 3400 :  [[ 2.19428259]]\n",
      "Loss iter 3450 :  [[ 2.21096203]]\n",
      "Loss iter 3500 :  [[ 2.22682841]]\n",
      "Loss iter 3550 :  [[ 2.24339947]]\n",
      "Loss iter 3600 :  [[ 2.2606106]]\n",
      "Loss iter 3650 :  [[ 2.2765341]]\n",
      "Loss iter 3700 :  [[ 2.29347536]]\n",
      "Loss iter 3750 :  [[ 2.30957281]]\n",
      "Loss iter 3800 :  [[ 2.3254037]]\n",
      "Loss iter 3850 :  [[ 2.3412694]]\n",
      "Loss iter 3900 :  [[ 2.35685674]]\n",
      "Loss iter 3950 :  [[ 2.37240122]]\n",
      "Loss iter 4000 :  [[ 2.38847839]]\n",
      "Loss iter 4050 :  [[ 2.40427724]]\n",
      "Loss iter 50 :  [[ 4.80291592]]\n",
      "Loss iter 100 :  [[ 4.84571107]]\n",
      "Loss iter 150 :  [[ 4.88320942]]\n",
      "Loss iter 200 :  [[ 4.92005559]]\n",
      "Loss iter 250 :  [[ 4.95796388]]\n",
      "Loss iter 300 :  [[ 4.99256159]]\n",
      "Loss iter 350 :  [[ 5.02852839]]\n",
      "Loss iter 400 :  [[ 5.06460703]]\n",
      "Loss iter 450 :  [[ 5.10077864]]\n",
      "Loss iter 500 :  [[ 5.13712734]]\n",
      "Loss iter 550 :  [[ 5.17078543]]\n",
      "Loss iter 600 :  [[ 5.20521554]]\n",
      "Loss iter 650 :  [[ 5.24030163]]\n",
      "Loss iter 700 :  [[ 5.27433376]]\n",
      "0.01\n"
     ]
    }
   ],
   "source": [
    "alpha = 0.01\n",
    "minibatch_size = 10\n",
    "threshold = 0.01\n",
    "fold = 10\n",
    "lam = kFoldCV(X_train, y_train, fold, alpha, theta, minibatch_size, threshold)\n",
    "print(lam)"
   ]
  },
  {
   "cell_type": "code",
   "execution_count": 106,
   "metadata": {},
   "outputs": [],
   "source": [
    "theta, cost = ridgeSGD(X_train, y_train, theta, alpha, minibatch_size, threshold, lam)"
   ]
  },
  {
   "cell_type": "code",
   "execution_count": 107,
   "metadata": {},
   "outputs": [
    {
     "data": {
      "text/plain": [
       "matrix([[ 0.16320852,  1.10918699, -0.67871258]])"
      ]
     },
     "execution_count": 107,
     "metadata": {},
     "output_type": "execute_result"
    }
   ],
   "source": [
    "theta"
   ]
  },
  {
   "cell_type": "code",
   "execution_count": 108,
   "metadata": {},
   "outputs": [
    {
     "data": {
      "text/plain": [
       "matrix([[ 0.15933824]])"
      ]
     },
     "execution_count": 108,
     "metadata": {},
     "output_type": "execute_result"
    }
   ],
   "source": [
    "cost[-1]"
   ]
  },
  {
   "cell_type": "code",
   "execution_count": 109,
   "metadata": {},
   "outputs": [
    {
     "data": {
      "image/png": "[encoded data removed]",
      "text/plain": [
       "<matplotlib.figure.Figure at 0x11e7286d8>"
      ]
     },
     "metadata": {},
     "output_type": "display_data"
    }
   ],
   "source": [
    "plotPrediction(X_train, y_train, theta)"
   ]
  },
  {
   "cell_type": "code",
   "execution_count": 110,
   "metadata": {},
   "outputs": [
    {
     "data": {
      "image/png": "[encoded data removed]",
      "text/plain": [
       "<matplotlib.figure.Figure at 0x11ab0f630>"
      ]
     },
     "metadata": {},
     "output_type": "display_data"
    }
   ],
   "source": [
    "plotPrediction(X_test, y_test, theta)"
   ]
  },
  {
   "cell_type": "code",
   "execution_count": 111,
   "metadata": {},
   "outputs": [
    {
     "data": {
      "text/plain": [
       "matrix([[ 0.17380478]])"
      ]
     },
     "execution_count": 111,
     "metadata": {},
     "output_type": "execute_result"
    }
   ],
   "source": [
    "computeCost(X_test, y_test, theta, lam)"
   ]
  },
  {
   "cell_type": "code",
   "execution_count": 112,
   "metadata": {},
   "outputs": [],
   "source": [
    "def classify(X, y, theta):\n",
    "    res = sigmoid(X*theta.T)\n",
    "    for i in range(len(res)):\n",
    "        if res[i] < 0.5:\n",
    "            res[i] = 0\n",
    "        else:\n",
    "            res[i] = 1\n",
    "    return res\n",
    "\n",
    "def classificationError(y, y_pred):\n",
    "    count = 0\n",
    "    for i in range(len(y)):\n",
    "        if y_pred[i] != y[i]:\n",
    "            count += 1\n",
    "    return count"
   ]
  },
  {
   "cell_type": "code",
   "execution_count": 113,
   "metadata": {},
   "outputs": [
    {
     "name": "stdout",
     "output_type": "stream",
     "text": [
      "The classification error percent is: 0.74%\n"
     ]
    }
   ],
   "source": [
    "y_pred = classify(X_train, y_train, theta)\n",
    "classification_error = classificationError(y_train, y_pred)\n",
    "classification_error_percent =  classification_error / len(y_pred) * 100\n",
    "print(\"Mis-classified points:\", classification_error)\n",
    "print(\"The classification error percent is: {:0.2f}%\".format(classification_error_percent))"
   ]
  },
  {
   "cell_type": "code",
   "execution_count": 114,
   "metadata": {},
   "outputs": [
    {
     "name": "stdout",
     "output_type": "stream",
     "text": [
      "The classification error is: 0\n",
      "The classification error percent is: 0.00%\n"
     ]
    }
   ],
   "source": [
    "y_pred = classify(X_test, y_test, theta)\n",
    "classification_error = classificationError(y_test, y_pred)\n",
    "classification_error_percent = classification_error / len(y_pred) * 100\n",
    "print(\"Miss-classified points:\", classification_error)\n",
    "print(\"The classification error percent is: {:0.2f}%\".format(classification_error_percent))"
   ]
  },
  {
   "cell_type": "code",
   "execution_count": null,
   "metadata": {
    "collapsed": true
   },
   "outputs": [],
   "source": []
  },
  {
   "cell_type": "code",
   "execution_count": null,
   "metadata": {
    "collapsed": true
   },
   "outputs": [],
   "source": []
  },
  {
   "cell_type": "code",
   "execution_count": null,
   "metadata": {
    "collapsed": true
   },
   "outputs": [],
   "source": []
  }
 ],
 "metadata": {
  "kernelspec": {
   "display_name": "Python 3",
   "language": "python",
   "name": "python3"
  },
  "language_info": {
   "codemirror_mode": {
    "name": "ipython",
    "version": 3
   },
   "file_extension": ".py",
   "mimetype": "text/x-python",
   "name": "python",
   "nbconvert_exporter": "python",
   "pygments_lexer": "ipython3",
   "version": "3.6.1"
  }
 },
 "nbformat": 4,
 "nbformat_minor": 2
}
