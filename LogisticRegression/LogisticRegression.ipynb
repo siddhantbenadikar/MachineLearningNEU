{
 "cells": [
  {
   "cell_type": "markdown",
   "metadata": {
    "collapsed": true
   },
   "source": [
    "## LOGISTIC REGRESSION"
   ]
  },
  {
   "cell_type": "code",
   "execution_count": 1,
   "metadata": {
    "collapsed": true
   },
   "outputs": [],
   "source": [
    "import numpy as np\n",
    "import pandas as pd\n",
    "import matplotlib.pyplot as plt\n",
    "import scipy.io as scio"
   ]
  },
  {
   "cell_type": "code",
   "execution_count": 2,
   "metadata": {
    "collapsed": true
   },
   "outputs": [],
   "source": [
    "data = scio.loadmat('HW2_Data/data1')"
   ]
  },
  {
   "cell_type": "code",
   "execution_count": 3,
   "metadata": {
    "collapsed": true
   },
   "outputs": [],
   "source": [
    "X_trn = np.insert(data['X_trn'], 0, 1, axis=1)\n",
    "y_trn = data['Y_trn']\n",
    "X_tst = np.insert(data['X_tst'], 0, 1, axis=1)\n",
    "y_tst = data['Y_tst']"
   ]
  },
  {
   "cell_type": "code",
   "execution_count": 4,
   "metadata": {
    "collapsed": true
   },
   "outputs": [],
   "source": [
    "X_train = np.matrix(X_trn)\n",
    "y_train = np.matrix(y_trn)\n",
    "X_test = np.matrix(X_tst)\n",
    "y_test = np.matrix(y_tst)\n",
    "theta = np.matrix(np.zeros(3))"
   ]
  },
  {
   "cell_type": "code",
   "execution_count": 5,
   "metadata": {
    "collapsed": true
   },
   "outputs": [],
   "source": [
    "def sigmoid(x):\n",
    "    '''Sigmoid function of x.'''\n",
    "    return 1/(1+np.exp(-x))"
   ]
  },
  {
   "cell_type": "code",
   "execution_count": 6,
   "metadata": {
    "collapsed": true
   },
   "outputs": [],
   "source": [
    "def computeCost(X, y, theta, l):\n",
    "    y_hat = sigmoid(X*theta.T)\n",
    "    m = len(X)\n",
    "    reg = l * np.sum(np.power(theta[:, 1:theta.shape[1]], 2))\n",
    "    cost = (-1/m) * (y.T*np.log(y_hat) + (1-y).T*(np.log(1-y_hat))) + reg\n",
    "    return cost"
   ]
  },
  {
   "cell_type": "code",
   "execution_count": 7,
   "metadata": {
    "collapsed": true
   },
   "outputs": [],
   "source": [
    "def plotPrediction(X, y, theta, title = 'train set'):\n",
    "    X = np.concatenate((X, y), axis=1)\n",
    "    X = np.array(X)\n",
    "    X1 = X[np.ix_(X[:, 3] == 0, (1,2))]\n",
    "    X2 = X[np.ix_(X[:, 3] == 1, (1,2))]\n",
    "    minimum = np.floor(X2.min())\n",
    "    maximum = np.ceil(X2.max())\n",
    "    plt.scatter(X1[:, 0], X1[:, 1], marker='+', color=\"blue\", label=\"Class 0\")\n",
    "    plt.scatter(X2[:, 0], X2[:, 1], marker='o', color=\"green\", label=\"Class 1\")\n",
    "    x = np.linspace(-3, 3, 10)\n",
    "    theta=np.array(theta)\n",
    "    slope = -theta[:,1]/theta[:,2]\n",
    "    intercept = -theta[:, 0]/theta[:,2]\n",
    "    y_pred = slope*x + intercept\n",
    "    plt.ylim(minimum, maximum)\n",
    "    plt.plot(x, y_pred, color='red', label=\"Boundary\")\n",
    "    plt.title(title)\n",
    "    plt.legend()\n",
    "    plt.show()"
   ]
  },
  {
   "cell_type": "code",
   "execution_count": 8,
   "metadata": {
    "collapsed": true
   },
   "outputs": [],
   "source": [
    "def ridgeSGD(X, y, theta, alpha, minibatch_size, threshold, l):\n",
    "    temp = np.matrix(np.zeros(theta.shape))\n",
    "    parameters = theta.ravel().shape[1]\n",
    "    cost = [np.inf]\n",
    "    i = 1\n",
    "\n",
    "    while True:\n",
    "        for k in range(len(X) // minibatch_size):\n",
    "            index_list = np.random.choice(len(X), size=minibatch_size, replace=False)\n",
    "            X_batch = X[index_list]\n",
    "            y_batch = y[index_list]\n",
    "            error = sigmoid(X_batch * theta.T) - y_batch\n",
    "            \n",
    "            for j in range(parameters):\n",
    "                term = np.multiply(error, X_batch[:,j]) + np.multiply(l, theta)\n",
    "                temp[0,j] = theta[0,j] - ((alpha / len(X_batch)) * np.sum(term))\n",
    "\n",
    "            theta = temp\n",
    "            \n",
    "        cost.append(computeCost(X, y, theta, l))\n",
    "        if cost[-2] - cost[-1] < threshold and cost[-2] - cost[-1] > 0:\n",
    "            break\n",
    "            \n",
    "        if i % 50 == 0:\n",
    "            print(\"Loss iter\",i,\": \",cost[-1])\n",
    "        i += 1\n",
    "        \n",
    "    return theta, cost"
   ]
  },
  {
   "cell_type": "code",
   "execution_count": 9,
   "metadata": {
    "collapsed": true
   },
   "outputs": [],
   "source": [
    "def kFoldCV(X, y, fold, alpha, theta, m, precision):\n",
    "    lam = np.arange(0.01, 0.1, 0.01)\n",
    "    cost_lam = {}\n",
    "    for l in lam:\n",
    "        cost = 0\n",
    "        items = int(len(X)/fold)\n",
    "        if len(X)%fold != 0:\n",
    "            items += 1\n",
    "        for i in range(0,fold-1):\n",
    "            data = np.concatenate((X, y), axis=1)\n",
    "            np.random.shuffle(data)\n",
    "            data_hold = data[i*items:(i+1)*items]\n",
    "            data_train = np.delete(data, data_hold, axis=0)\n",
    "            cols = data_train.shape[1]\n",
    "            X_train = np.matrix(data_train[:, 0:cols-1])\n",
    "            y_train = np.matrix(data_train[:, cols-1:])\n",
    "            theta, _ = ridgeSGD(X_train, y_train, theta, alpha, m, precision, l)\n",
    "            X_hold = np.matrix(data_hold[:, 0:cols-1])\n",
    "            y_hold = np.matrix(data_hold[:, cols-1:])\n",
    "            cost = cost + computeCost(X_hold, y_hold, theta, l)\n",
    "        avg_cost= cost/fold\n",
    "        cost_lam[l] = avg_cost\n",
    "        best_lam = min(cost_lam, key=lambda k: cost_lam[k])\n",
    "    return best_lam"
   ]
  },
  {
   "cell_type": "code",
   "execution_count": 11,
   "metadata": {
    "scrolled": false
   },
   "outputs": [
    {
     "name": "stderr",
     "output_type": "stream",
     "text": [
      "/Users/siddhantbenadikar/anaconda/lib/python3.6/site-packages/ipykernel_launcher.py:13: DeprecationWarning: using a non-integer array as obj in delete will result in an error in the future\n",
      "  del sys.path[0]\n",
      "/Users/siddhantbenadikar/anaconda/lib/python3.6/site-packages/ipykernel_launcher.py:13: FutureWarning: in the future negative indices will not be ignored by `numpy.delete`.\n",
      "  del sys.path[0]\n"
     ]
    },
    {
     "name": "stdout",
     "output_type": "stream",
     "text": [
      "Loss iter 50 :  [[ 0.18057737]]\n",
      "Loss iter 100 :  [[ 0.21229003]]\n",
      "Loss iter 150 :  [[ 0.23762188]]\n",
      "Loss iter 200 :  [[ 0.25806126]]\n",
      "Loss iter 50 :  [[ 0.28085043]]\n",
      "Loss iter 100 :  [[ 0.29633249]]\n",
      "Loss iter 50 :  [[ 0.93727268]]\n",
      "Loss iter 100 :  [[ 0.98253882]]\n",
      "Loss iter 150 :  [[ 1.02620844]]\n",
      "Loss iter 200 :  [[ 1.06853477]]\n",
      "Loss iter 250 :  [[ 1.11019588]]\n",
      "Loss iter 300 :  [[ 1.14968597]]\n",
      "Loss iter 350 :  [[ 1.19002098]]\n",
      "Loss iter 400 :  [[ 1.22913543]]\n",
      "Loss iter 450 :  [[ 1.26644634]]\n",
      "Loss iter 500 :  [[ 1.30285155]]\n",
      "Loss iter 550 :  [[ 1.3390709]]\n",
      "Loss iter 600 :  [[ 1.37467514]]\n",
      "Loss iter 650 :  [[ 1.40913678]]\n",
      "Loss iter 700 :  [[ 1.4424025]]\n",
      "Loss iter 750 :  [[ 1.47477114]]\n",
      "Loss iter 800 :  [[ 1.50713438]]\n",
      "Loss iter 850 :  [[ 1.53987996]]\n",
      "Loss iter 900 :  [[ 1.57224734]]\n",
      "Loss iter 950 :  [[ 1.60301436]]\n",
      "Loss iter 1000 :  [[ 1.63448723]]\n",
      "Loss iter 1050 :  [[ 1.66476938]]\n",
      "Loss iter 1100 :  [[ 1.69490476]]\n",
      "Loss iter 1150 :  [[ 1.72570884]]\n",
      "Loss iter 1200 :  [[ 1.75579705]]\n",
      "Loss iter 1250 :  [[ 1.78517342]]\n",
      "Loss iter 1300 :  [[ 1.81431796]]\n",
      "Loss iter 1350 :  [[ 1.84376976]]\n",
      "Loss iter 1400 :  [[ 1.87353825]]\n",
      "Loss iter 1450 :  [[ 1.90141516]]\n",
      "Loss iter 1500 :  [[ 1.92900821]]\n",
      "Loss iter 1550 :  [[ 1.95649288]]\n",
      "Loss iter 1600 :  [[ 1.98383031]]\n",
      "Loss iter 1650 :  [[ 2.01220558]]\n",
      "Loss iter 1700 :  [[ 2.03989119]]\n",
      "Loss iter 1750 :  [[ 2.06667542]]\n",
      "Loss iter 1800 :  [[ 2.09281681]]\n",
      "Loss iter 1850 :  [[ 2.11889775]]\n",
      "Loss iter 1900 :  [[ 2.14423806]]\n",
      "Loss iter 1950 :  [[ 2.16952783]]\n",
      "Loss iter 2000 :  [[ 2.19475016]]\n",
      "Loss iter 2050 :  [[ 2.22062653]]\n",
      "Loss iter 2100 :  [[ 2.24652587]]\n",
      "Loss iter 2150 :  [[ 2.27132406]]\n",
      "Loss iter 2200 :  [[ 2.29660105]]\n",
      "Loss iter 2250 :  [[ 2.32190419]]\n",
      "Loss iter 2300 :  [[ 2.34720441]]\n",
      "Loss iter 2350 :  [[ 2.37123289]]\n",
      "Loss iter 2400 :  [[ 2.39542352]]\n",
      "Loss iter 2450 :  [[ 2.42020027]]\n",
      "Loss iter 2500 :  [[ 2.44373784]]\n",
      "Loss iter 2550 :  [[ 2.46797877]]\n",
      "Loss iter 2600 :  [[ 2.49176866]]\n",
      "Loss iter 2650 :  [[ 2.5165132]]\n",
      "Loss iter 2700 :  [[ 2.539673]]\n",
      "Loss iter 2750 :  [[ 2.56308121]]\n",
      "Loss iter 2800 :  [[ 2.58678741]]\n",
      "Loss iter 2850 :  [[ 2.61012266]]\n",
      "Loss iter 2900 :  [[ 2.63121373]]\n",
      "Loss iter 2950 :  [[ 2.65460957]]\n",
      "Loss iter 3000 :  [[ 2.67720643]]\n",
      "Loss iter 3050 :  [[ 2.69999463]]\n",
      "Loss iter 3100 :  [[ 2.72301292]]\n",
      "Loss iter 3150 :  [[ 2.7453512]]\n",
      "Loss iter 3200 :  [[ 2.76650834]]\n",
      "Loss iter 3250 :  [[ 2.78798979]]\n",
      "Loss iter 3300 :  [[ 2.80972717]]\n",
      "Loss iter 3350 :  [[ 2.83154268]]\n",
      "Loss iter 3400 :  [[ 2.85243835]]\n",
      "Loss iter 3450 :  [[ 2.874539]]\n",
      "Loss iter 3500 :  [[ 2.89520148]]\n",
      "Loss iter 3550 :  [[ 2.91587657]]\n",
      "Loss iter 3600 :  [[ 2.93845398]]\n",
      "Loss iter 3650 :  [[ 2.959714]]\n",
      "Loss iter 3700 :  [[ 2.98065681]]\n",
      "Loss iter 3750 :  [[ 3.00179383]]\n",
      "Loss iter 3800 :  [[ 3.02365662]]\n",
      "Loss iter 3850 :  [[ 3.04477258]]\n",
      "Loss iter 3900 :  [[ 3.06717595]]\n",
      "Loss iter 3950 :  [[ 3.08680068]]\n",
      "Loss iter 4000 :  [[ 3.1073969]]\n",
      "Loss iter 4050 :  [[ 3.12702741]]\n",
      "Loss iter 4100 :  [[ 3.14785789]]\n",
      "Loss iter 4150 :  [[ 3.16784437]]\n",
      "Loss iter 4200 :  [[ 3.18765393]]\n",
      "Loss iter 4250 :  [[ 3.20713803]]\n",
      "Loss iter 50 :  [[ 5.79096475]]\n",
      "Loss iter 100 :  [[ 5.83316622]]\n",
      "Loss iter 50 :  [[ 5.87584308]]\n",
      "Loss iter 50 :  [[ 5.93795044]]\n",
      "Loss iter 100 :  [[ 5.97654036]]\n",
      "Loss iter 150 :  [[ 6.01258224]]\n",
      "Loss iter 200 :  [[ 6.05217508]]\n",
      "Loss iter 250 :  [[ 6.09271496]]\n",
      "Loss iter 300 :  [[ 6.13013529]]\n",
      "Loss iter 350 :  [[ 6.16892849]]\n",
      "Loss iter 400 :  [[ 6.20780483]]\n",
      "Loss iter 450 :  [[ 6.24574528]]\n",
      "Loss iter 500 :  [[ 6.28267972]]\n",
      "Loss iter 550 :  [[ 6.31826123]]\n",
      "Loss iter 600 :  [[ 6.35583697]]\n",
      "Loss iter 650 :  [[ 6.39372351]]\n",
      "Loss iter 700 :  [[ 6.42908994]]\n",
      "Loss iter 750 :  [[ 6.46617819]]\n",
      "Loss iter 800 :  [[ 6.50341918]]\n",
      "Loss iter 850 :  [[ 6.53814584]]\n",
      "0.01\n"
     ]
    }
   ],
   "source": [
    "alpha = 0.01\n",
    "minibatch_size = 10\n",
    "threshold = 0.01\n",
    "fold = 10\n",
    "lam = kFoldCV(X_train, y_train, fold, alpha, theta, minibatch_size, threshold)\n",
    "print(lam)"
   ]
  },
  {
   "cell_type": "code",
   "execution_count": 16,
   "metadata": {
    "collapsed": true
   },
   "outputs": [],
   "source": [
    "theta, cost = ridgeSGD(X_train, y_train, theta, alpha, minibatch_size, threshold, lam)"
   ]
  },
  {
   "cell_type": "code",
   "execution_count": 17,
   "metadata": {},
   "outputs": [
    {
     "data": {
      "text/plain": [
       "matrix([[ 0.14078112,  1.20024275, -0.76849884]])"
      ]
     },
     "execution_count": 17,
     "metadata": {},
     "output_type": "execute_result"
    }
   ],
   "source": [
    "theta"
   ]
  },
  {
   "cell_type": "code",
   "execution_count": 18,
   "metadata": {},
   "outputs": [
    {
     "data": {
      "text/plain": [
       "matrix([[ 0.14506635]])"
      ]
     },
     "execution_count": 18,
     "metadata": {},
     "output_type": "execute_result"
    }
   ],
   "source": [
    "cost[-1]"
   ]
  },
  {
   "cell_type": "code",
   "execution_count": 19,
   "metadata": {},
   "outputs": [
    {
     "data": {
      "image/png": "[encoded data removed]",
      "text/plain": [
       "<matplotlib.figure.Figure at 0x11301a4a8>"
      ]
     },
     "metadata": {},
     "output_type": "display_data"
    }
   ],
   "source": [
    "plotPrediction(X_train, y_train, theta,\"training set\")"
   ]
  },
  {
   "cell_type": "code",
   "execution_count": 20,
   "metadata": {},
   "outputs": [
    {
     "data": {
      "image/png": "[encoded data removed]",
      "text/plain": [
       "<matplotlib.figure.Figure at 0x113156f60>"
      ]
     },
     "metadata": {},
     "output_type": "display_data"
    }
   ],
   "source": [
    "plotPrediction(X_test, y_test, theta, \"test set\")"
   ]
  },
  {
   "cell_type": "code",
   "execution_count": 54,
   "metadata": {},
   "outputs": [
    {
     "data": {
      "text/plain": [
       "matrix([[ 0.33946078]])"
      ]
     },
     "execution_count": 54,
     "metadata": {},
     "output_type": "execute_result"
    }
   ],
   "source": [
    "computeCost(X_test, y_test, theta, lam)"
   ]
  },
  {
   "cell_type": "code",
   "execution_count": 55,
   "metadata": {
    "collapsed": true
   },
   "outputs": [],
   "source": [
    "def classify(X, y, theta):\n",
    "    res = sigmoid(X*theta.T)\n",
    "    for i in range(len(res)):\n",
    "        if res[i] < 0.5:\n",
    "            res[i] = 0\n",
    "        else:\n",
    "            res[i] = 1\n",
    "    return res\n",
    "\n",
    "def classificationError(y, y_pred):\n",
    "    count = 0\n",
    "    for i in range(len(y)):\n",
    "        if y_pred[i] != y[i]:\n",
    "            count += 1\n",
    "    return count"
   ]
  },
  {
   "cell_type": "code",
   "execution_count": 58,
   "metadata": {
    "collapsed": true
   },
   "outputs": [],
   "source": [
    "def classification_error_print(X_train, y_train, theta):\n",
    "    y_pred = classify(X_train, y_train, theta)\n",
    "    classification_error = classificationError(y_train, y_pred)\n",
    "    classification_error_percent =  classification_error / len(y_pred) * 100\n",
    "    print(\"Miss-classified points:\", classification_error)\n",
    "    print(\"The classification error percent is: {:0.2f}%\".format(classification_error_percent))"
   ]
  },
  {
   "cell_type": "code",
   "execution_count": 59,
   "metadata": {},
   "outputs": [
    {
     "name": "stdout",
     "output_type": "stream",
     "text": [
      "Miss-classified points: 7\n",
      "The classification error percent is: 5.56%\n"
     ]
    }
   ],
   "source": [
    "classification_error_print(X_train, y_train, theta)"
   ]
  },
  {
   "cell_type": "code",
   "execution_count": 60,
   "metadata": {},
   "outputs": [
    {
     "name": "stdout",
     "output_type": "stream",
     "text": [
      "Miss-classified points: 1\n",
      "The classification error percent is: 7.14%\n"
     ]
    }
   ],
   "source": [
    "classification_error_print(X_test, y_test, theta)"
   ]
  },
  {
   "cell_type": "code",
   "execution_count": null,
   "metadata": {
    "collapsed": true
   },
   "outputs": [],
   "source": []
  }
 ],
 "metadata": {
  "kernelspec": {
   "display_name": "Python 3",
   "language": "python",
   "name": "python3"
  },
  "language_info": {
   "codemirror_mode": {
    "name": "ipython",
    "version": 3
   },
   "file_extension": ".py",
   "mimetype": "text/x-python",
   "name": "python",
   "nbconvert_exporter": "python",
   "pygments_lexer": "ipython3",
   "version": "3.6.1"
  }
 },
 "nbformat": 4,
 "nbformat_minor": 2
}
