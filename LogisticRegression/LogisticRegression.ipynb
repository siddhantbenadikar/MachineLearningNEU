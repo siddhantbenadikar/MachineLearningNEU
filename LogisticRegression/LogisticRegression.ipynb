{
 "cells": [
  {
   "cell_type": "markdown",
   "metadata": {
    "collapsed": true
   },
   "source": [
    "## LOGISTIC REGRESSION"
   ]
  },
  {
   "cell_type": "code",
   "execution_count": 39,
   "metadata": {
    "collapsed": true
   },
   "outputs": [],
   "source": [
    "import numpy as np\n",
    "import pandas as pd\n",
    "import matplotlib.pyplot as plt\n",
    "import scipy.io as scio"
   ]
  },
  {
   "cell_type": "code",
   "execution_count": 40,
   "metadata": {
    "collapsed": true
   },
   "outputs": [],
   "source": [
    "data = scio.loadmat('HW2_Data/data1')"
   ]
  },
  {
   "cell_type": "code",
   "execution_count": 41,
   "metadata": {
    "collapsed": true
   },
   "outputs": [],
   "source": [
    "X_trn = np.insert(data['X_trn'], 0, 1, axis=1)\n",
    "y_trn = data['Y_trn']\n",
    "X_tst = np.insert(data['X_tst'], 0, 1, axis=1)\n",
    "y_tst = data['Y_tst']"
   ]
  },
  {
   "cell_type": "code",
   "execution_count": 42,
   "metadata": {
    "collapsed": true
   },
   "outputs": [],
   "source": [
    "X_train = np.matrix(X_trn)\n",
    "y_train = np.matrix(y_trn)\n",
    "X_test = np.matrix(X_tst)\n",
    "y_test = np.matrix(y_tst)\n",
    "theta = np.matrix(np.zeros(3))"
   ]
  },
  {
   "cell_type": "code",
   "execution_count": 43,
   "metadata": {
    "collapsed": true
   },
   "outputs": [],
   "source": [
    "def sigmoid(x):\n",
    "    '''Sigmoid function of x.'''\n",
    "    return 1/(1+np.exp(-x))"
   ]
  },
  {
   "cell_type": "code",
   "execution_count": 44,
   "metadata": {
    "collapsed": true
   },
   "outputs": [],
   "source": [
    "def computeCost(X, y, theta, l):\n",
    "    y_hat = sigmoid(X*theta.T)\n",
    "    m = len(X)\n",
    "    reg = l * np.sum(np.power(theta[:, 1:theta.shape[1]], 2))\n",
    "    cost = (-1/m) * (y.T*np.log(y_hat) + (1-y).T*(np.log(1-y_hat))) + reg\n",
    "    return cost"
   ]
  },
  {
   "cell_type": "code",
   "execution_count": 45,
   "metadata": {
    "collapsed": true
   },
   "outputs": [],
   "source": [
    "def plotPrediction(X, y, theta, title = 'train set'):\n",
    "    X = np.concatenate((X, y), axis=1)\n",
    "    X = np.array(X)\n",
    "    X1 = X[np.ix_(X[:, 3] == 0, (1,2))]\n",
    "    X2 = X[np.ix_(X[:, 3] == 1, (1,2))]\n",
    "    minimum = np.floor(X2.min())\n",
    "    maximum = np.ceil(X2.max())\n",
    "    plt.scatter(X1[:, 0], X1[:, 1], marker='+', color=\"blue\", label=\"Class 0\")\n",
    "    plt.scatter(X2[:, 0], X2[:, 1], marker='o', color=\"green\", label=\"Class 1\")\n",
    "    x = np.linspace(-3, 3, 10)\n",
    "    theta=np.array(theta)\n",
    "    slope = -theta[:,1]/theta[:,2]\n",
    "    intercept = -theta[:, 0]/theta[:,2]\n",
    "    y_pred = slope*x + intercept\n",
    "    plt.ylim(minimum, maximum)\n",
    "    plt.plot(x, y_pred, color='red', label=\"Boundary\")\n",
    "    plt.title(title)\n",
    "    plt.legend()\n",
    "    plt.show()"
   ]
  },
  {
   "cell_type": "code",
   "execution_count": 46,
   "metadata": {
    "collapsed": true
   },
   "outputs": [],
   "source": [
    "def ridgeSGD(X, y, theta, alpha, minibatch_size, threshold, l):\n",
    "    temp = np.matrix(np.zeros(theta.shape))\n",
    "    parameters = theta.ravel().shape[1]\n",
    "    cost = [np.inf]\n",
    "    i = 1\n",
    "\n",
    "    while True:\n",
    "        for k in range(len(X) // minibatch_size):\n",
    "            index_list = np.random.choice(len(X), size=minibatch_size, replace=False)\n",
    "            X_batch = X[index_list]\n",
    "            y_batch = y[index_list]\n",
    "            error = sigmoid(X_batch * theta.T) - y_batch\n",
    "            \n",
    "            for j in range(parameters):\n",
    "                term = np.multiply(error, X_batch[:,j]) + np.multiply(l, theta)\n",
    "                temp[0,j] = theta[0,j] - ((alpha / len(X_batch)) * np.sum(term))\n",
    "\n",
    "            theta = temp\n",
    "            \n",
    "        cost.append(computeCost(X, y, theta, l))\n",
    "        if cost[-2] - cost[-1] < threshold and cost[-2] - cost[-1] > 0:\n",
    "            break\n",
    "            \n",
    "        if i % 50 == 0:\n",
    "            print(\"Loss iter\",i,\": \",cost[-1])\n",
    "        i += 1\n",
    "        \n",
    "    return theta, cost"
   ]
  },
  {
   "cell_type": "code",
   "execution_count": 47,
   "metadata": {
    "collapsed": true
   },
   "outputs": [],
   "source": [
    "def kFoldCV(X, y, fold, alpha, theta, m, precision):\n",
    "    lam = np.arange(0.01, 0.1, 0.01)\n",
    "    cost_lam = {}\n",
    "    for l in lam:\n",
    "        cost = 0\n",
    "        items = int(len(X)/fold)\n",
    "        if len(X)%fold != 0:\n",
    "            items += 1\n",
    "        for i in range(0,fold-1):\n",
    "            data = np.concatenate((X, y), axis=1)\n",
    "            np.random.shuffle(data)\n",
    "            data_hold = data[i*items:(i+1)*items]\n",
    "            data_train = np.delete(data, data_hold, axis=0)\n",
    "            cols = data_train.shape[1]\n",
    "            X_train = np.matrix(data_train[:, 0:cols-1])\n",
    "            y_train = np.matrix(data_train[:, cols-1:])\n",
    "            theta, _ = ridgeSGD(X_train, y_train, theta, alpha, m, precision, l)\n",
    "            X_hold = np.matrix(data_hold[:, 0:cols-1])\n",
    "            y_hold = np.matrix(data_hold[:, cols-1:])\n",
    "            cost = cost + computeCost(X_hold, y_hold, theta, l)\n",
    "        avg_cost= cost/fold\n",
    "        cost_lam[l] = avg_cost\n",
    "        best_lam = min(cost_lam, key=lambda k: cost_lam[k])\n",
    "    return best_lam"
   ]
  },
  {
   "cell_type": "code",
   "execution_count": 48,
   "metadata": {
    "scrolled": false
   },
   "outputs": [
    {
     "name": "stderr",
     "output_type": "stream",
     "text": [
      "/Users/siddhantbenadikar/anaconda/lib/python3.6/site-packages/ipykernel_launcher.py:13: DeprecationWarning: using a non-integer array as obj in delete will result in an error in the future\n",
      "  del sys.path[0]\n",
      "/Users/siddhantbenadikar/anaconda/lib/python3.6/site-packages/ipykernel_launcher.py:13: FutureWarning: in the future negative indices will not be ignored by `numpy.delete`.\n",
      "  del sys.path[0]\n"
     ]
    },
    {
     "name": "stdout",
     "output_type": "stream",
     "text": [
      "0.02\n"
     ]
    }
   ],
   "source": [
    "alpha = 0.01\n",
    "minibatch_size = 10\n",
    "threshold = 0.01\n",
    "fold = 10\n",
    "lam = kFoldCV(X_train, y_train, fold, alpha, theta, minibatch_size, threshold)\n",
    "print(lam)"
   ]
  },
  {
   "cell_type": "code",
   "execution_count": 49,
   "metadata": {
    "collapsed": true
   },
   "outputs": [],
   "source": [
    "theta, cost = ridgeSGD(X_train, y_train, theta, alpha, minibatch_size, threshold, lam)"
   ]
  },
  {
   "cell_type": "code",
   "execution_count": 50,
   "metadata": {},
   "outputs": [
    {
     "data": {
      "text/plain": [
       "matrix([[ 0.19601532,  1.1141104 , -0.31229041]])"
      ]
     },
     "execution_count": 50,
     "metadata": {},
     "output_type": "execute_result"
    }
   ],
   "source": [
    "theta"
   ]
  },
  {
   "cell_type": "code",
   "execution_count": 51,
   "metadata": {},
   "outputs": [
    {
     "data": {
      "text/plain": [
       "matrix([[ 0.33544065]])"
      ]
     },
     "execution_count": 51,
     "metadata": {},
     "output_type": "execute_result"
    }
   ],
   "source": [
    "cost[-1]"
   ]
  },
  {
   "cell_type": "code",
   "execution_count": 52,
   "metadata": {},
   "outputs": [
    {
     "data": {
      "image/png": "[encoded data removed]",
      "text/plain": [
       "<matplotlib.figure.Figure at 0x116c595c0>"
      ]
     },
     "metadata": {},
     "output_type": "display_data"
    }
   ],
   "source": [
    "plotPrediction(X_train, y_train, theta,\"training set\")"
   ]
  },
  {
   "cell_type": "code",
   "execution_count": 53,
   "metadata": {},
   "outputs": [
    {
     "data": {
      "image/png": "[encoded data removed]",
      "text/plain": [
       "<matplotlib.figure.Figure at 0x1132be208>"
      ]
     },
     "metadata": {},
     "output_type": "display_data"
    }
   ],
   "source": [
    "plotPrediction(X_test, y_test, theta, \"test set\")"
   ]
  },
  {
   "cell_type": "code",
   "execution_count": 54,
   "metadata": {},
   "outputs": [
    {
     "data": {
      "text/plain": [
       "matrix([[ 0.33946078]])"
      ]
     },
     "execution_count": 54,
     "metadata": {},
     "output_type": "execute_result"
    }
   ],
   "source": [
    "computeCost(X_test, y_test, theta, lam)"
   ]
  },
  {
   "cell_type": "code",
   "execution_count": 55,
   "metadata": {
    "collapsed": true
   },
   "outputs": [],
   "source": [
    "def classify(X, y, theta):\n",
    "    res = sigmoid(X*theta.T)\n",
    "    for i in range(len(res)):\n",
    "        if res[i] < 0.5:\n",
    "            res[i] = 0\n",
    "        else:\n",
    "            res[i] = 1\n",
    "    return res\n",
    "\n",
    "def classificationError(y, y_pred):\n",
    "    count = 0\n",
    "    for i in range(len(y)):\n",
    "        if y_pred[i] != y[i]:\n",
    "            count += 1\n",
    "    return count"
   ]
  },
  {
   "cell_type": "code",
   "execution_count": 58,
   "metadata": {
    "collapsed": true
   },
   "outputs": [],
   "source": [
    "def classification_error_print(X_train, y_train, theta):\n",
    "    y_pred = classify(X_train, y_train, theta)\n",
    "    classification_error = classificationError(y_train, y_pred)\n",
    "    classification_error_percent =  classification_error / len(y_pred) * 100\n",
    "    print(\"Miss-classified points:\", classification_error)\n",
    "    print(\"The classification error percent is: {:0.2f}%\".format(classification_error_percent))"
   ]
  },
  {
   "cell_type": "code",
   "execution_count": 59,
   "metadata": {},
   "outputs": [
    {
     "name": "stdout",
     "output_type": "stream",
     "text": [
      "Miss-classified points: 7\n",
      "The classification error percent is: 5.56%\n"
     ]
    }
   ],
   "source": [
    "classification_error_print(X_train, y_train, theta)"
   ]
  },
  {
   "cell_type": "code",
   "execution_count": 60,
   "metadata": {},
   "outputs": [
    {
     "name": "stdout",
     "output_type": "stream",
     "text": [
      "Miss-classified points: 1\n",
      "The classification error percent is: 7.14%\n"
     ]
    }
   ],
   "source": [
    "classification_error_print(X_test, y_test, theta)"
   ]
  },
  {
   "cell_type": "code",
   "execution_count": null,
   "metadata": {
    "collapsed": true
   },
   "outputs": [],
   "source": []
  }
 ],
 "metadata": {
  "kernelspec": {
   "display_name": "Python 3",
   "language": "python",
   "name": "python3"
  },
  "language_info": {
   "codemirror_mode": {
    "name": "ipython",
    "version": 3
   },
   "file_extension": ".py",
   "mimetype": "text/x-python",
   "name": "python",
   "nbconvert_exporter": "python",
   "pygments_lexer": "ipython3",
   "version": "3.6.1"
  }
 },
 "nbformat": 4,
 "nbformat_minor": 2
}
