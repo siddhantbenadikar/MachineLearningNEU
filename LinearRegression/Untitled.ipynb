{
 "cells": [
  {
   "cell_type": "markdown",
   "metadata": {},
   "source": [
    "## Ridge Regression with K-fold Cross validation"
   ]
  },
  {
   "cell_type": "code",
   "execution_count": 17,
   "metadata": {
    "collapsed": true
   },
   "outputs": [],
   "source": [
    "import numpy as np\n",
    "import pandas as pd\n",
    "import matplotlib.pyplot as plt\n",
    "import scipy.io as scio\n",
    "import random\n",
    "%matplotlib inline"
   ]
  },
  {
   "cell_type": "code",
   "execution_count": 18,
   "metadata": {
    "collapsed": true
   },
   "outputs": [],
   "source": [
    "data = scio.loadmat('HW1_Data/dataset2')"
   ]
  },
  {
   "cell_type": "code",
   "execution_count": 19,
   "metadata": {
    "collapsed": true
   },
   "outputs": [],
   "source": [
    "def transform(X, degree):\n",
    "    Z = A = X\n",
    "    for i in range(degree-1):\n",
    "        Z = Z * A\n",
    "        X = np.insert(X, [i+1], Z, axis=1)\n",
    "    return np.insert(X, 0, 1, axis=1)"
   ]
  },
  {
   "cell_type": "code",
   "execution_count": 20,
   "metadata": {
    "collapsed": true
   },
   "outputs": [],
   "source": [
    "X_train = data['X_trn']\n",
    "y_train = data['Y_trn']\n",
    "X_test = data['X_tst']\n",
    "y_test = data['Y_tst']\n",
    "\n",
    "X_train_2 = np.matrix(transform(X_train, 2))\n",
    "X_train_3 = np.matrix(transform(X_train, 3))\n",
    "X_train_5 = np.matrix(transform(X_train, 5))\n",
    "\n",
    "X_test_2 = np.matrix(transform(X_test, 2))\n",
    "X_test_3 = np.matrix(transform(X_test, 3))\n",
    "X_test_5 = np.matrix(transform(X_test, 5))\n",
    "\n",
    "y_train = np.matrix(y_train)\n",
    "y_test = np.matrix(y_test)\n",
    "\n",
    "theta0_2 = np.matrix(np.zeros(3))\n",
    "theta0_3 = np.matrix(np.zeros(4))\n",
    "theta0_5 = np.matrix(np.zeros(6))\n",
    "\n",
    "alpha = 0.01\n",
    "batchSize = 15\n",
    "threshold = 0.001"
   ]
  },
  {
   "cell_type": "code",
   "execution_count": 21,
   "metadata": {
    "collapsed": true
   },
   "outputs": [],
   "source": [
    "def computeCost(X, y, theta):\n",
    "    inner = np.power(((X * theta.T) - y), 2)\n",
    "    return np.sum(inner) / (2 * len(X))"
   ]
  },
  {
   "cell_type": "code",
   "execution_count": 22,
   "metadata": {
    "collapsed": true
   },
   "outputs": [],
   "source": [
    "def MSE(y, y_pred):\n",
    "    y = np.asarray(y)\n",
    "    y_pred = np.asarray(y_pred)\n",
    "    return np.mean((y - y_pred) ** 2)"
   ]
  },
  {
   "cell_type": "code",
   "execution_count": 23,
   "metadata": {
    "collapsed": true
   },
   "outputs": [],
   "source": [
    "def ridgeClosedForm(X, y, l):\n",
    "    lI = l * np.identity(X.shape[1])\n",
    "    return (X.T * X + lI).I * (X.T * y)"
   ]
  },
  {
   "cell_type": "code",
   "execution_count": 31,
   "metadata": {
    "collapsed": true
   },
   "outputs": [],
   "source": [
    "def plotPrediction(y, y_pred, title = 'train set'):\n",
    "    plt.scatter(y, y_pred)\n",
    "    plt.plot([min(y), max(y)], [min(y), max(y)], '--')\n",
    "    plt.xlabel('true value')\n",
    "    plt.ylabel('predicted value')\n",
    "    plt.title(title)"
   ]
  },
  {
   "cell_type": "code",
   "execution_count": 24,
   "metadata": {
    "collapsed": true
   },
   "outputs": [],
   "source": [
    "def ridgeGradientDescent(X, y, theta, alpha, minibatch_size, threshold, l):\n",
    "    temp = np.matrix(np.zeros(theta.shape))\n",
    "    parameters = theta.ravel().shape[1]\n",
    "    cost = [np.inf]\n",
    "    i = 1\n",
    "\n",
    "    while True:\n",
    "        for k in range(len(X) // minibatch_size):\n",
    "            index_list = np.random.choice(len(X), size=minibatch_size, replace=False)\n",
    "            X_batch = X[index_list]\n",
    "            y_batch = y[index_list]\n",
    "            error = (X_batch * theta.T) - y_batch\n",
    "            \n",
    "            for j in range(parameters):\n",
    "                term = np.multiply(error, X_batch[:,j]) + np.multiply(l, theta)\n",
    "                temp[0,j] = theta[0,j] - ((alpha / len(X_batch)) * np.sum(term))\n",
    "\n",
    "            theta = temp\n",
    "            \n",
    "        cost.append(computeCost(X, y, theta))\n",
    "        if cost[-2] - cost[-1] < threshold and cost[-2] - cost[-1] > 0:\n",
    "            break\n",
    "            \n",
    "#         if i % 50 == 0:\n",
    "#             print(\"Loss iter\",i,\": \",cost[-1])\n",
    "#         i += 1\n",
    "        \n",
    "        \n",
    "    return theta, cost"
   ]
  },
  {
   "cell_type": "code",
   "execution_count": 25,
   "metadata": {
    "collapsed": true
   },
   "outputs": [],
   "source": [
    "def kFoldCV(X, y, fold):\n",
    "    lam = np.arange(0.01, 0.1, 0.01)\n",
    "    cost_lam = {}\n",
    "    for l in lam:\n",
    "        cost = 0\n",
    "        for i in range(0,fold-1):\n",
    "            data = np.concatenate((X, y), axis=1)\n",
    "            data_split = np.split(data, fold)\n",
    "            data1 = data_split[:i]\n",
    "            data2 = data_split[i+1:]\n",
    "            if not data1:\n",
    "                data_train = np.concatenate((data2[:]), axis=0)\n",
    "            else:\n",
    "                data_train = np.concatenate((data1,data2), axis=0)\n",
    "                data_train = np.concatenate((data_train[:]), axis=0)\n",
    "            data_hold = data_split[i]\n",
    "            cols = data_train.shape[1]\n",
    "            X_train = np.matrix(data_train[:, 0:cols - 1])\n",
    "            y_train = np.matrix(data_train[:, cols - 1:cols])\n",
    "            theta = ridgeClosedForm(X_train, y_train, l)\n",
    "            X_hold = np.matrix(data_hold[:, 0:cols - 1])\n",
    "            y_hold = np.matrix(data_hold[:, cols - 1:cols])\n",
    "            theta = theta.T\n",
    "            cost = cost + computeCost(X_hold, y_hold, theta)\n",
    "        avg_cost= cost/fold\n",
    "        cost_lam[l] = avg_cost\n",
    "        best_lam = min(cost_lam, key=lambda k: cost_lam[k])\n",
    "    return best_lam"
   ]
  },
  {
   "cell_type": "code",
   "execution_count": 36,
   "metadata": {
    "collapsed": true
   },
   "outputs": [],
   "source": [
    "def printer(X_train, y_train, X_test, y_test, fold, teta, size, threshold, degree, alpha):\n",
    "    print(\"For K=\"+str(fold))\n",
    "    lam = kFoldCV(X_train, y_train, fold)\n",
    "    theta_2_closed_form = ridgeClosedForm(X_train, y_train, lam)\n",
    "    theta_2_gd, cost_2_gd = ridgeGradientDescent(X_train, y_train, teta, alpha, size, threshold, lam)\n",
    "    print(\"theta closed form\", theta_2_closed_form.T)\n",
    "    print(\"theta gradient descent\", theta_2_gd)\n",
    "    print(\"Lambda for degree k=2:\", lam)\n",
    "    print(\"-------TRAINING SET-------\")\n",
    "    print(\"cost closed form\", computeCost(X_train, y_train, theta_2_closed_form.T))\n",
    "    print(\"cost gradient descent\", cost_2_gd[-1])\n",
    "    print(\"MSE closed form\", MSE(y_train, (X_train * theta_2_closed_form)))\n",
    "    print(\"MSE train gradient descent\", MSE(y_train, (X_train * theta_2_gd.T)))\n",
    "    print(\"-------TEST SET-------\")\n",
    "    print(\"MSE closed form\", MSE(y_test, (X_test * theta_2_closed_form)))\n",
    "    print(\"MSE test gradient descent\", MSE(y_test, (X_test * theta_2_gd.T)))\n",
    "    plotPrediction(np.asarray(y_train), np.asarray(X_train * theta_2_gd.T))\n",
    "    plotPrediction(np.asarray(y_test), np.asarray(X_test * theta_2_gd.T))\n",
    "    print(\"-------------------------------------------------------------------\")"
   ]
  },
  {
   "cell_type": "code",
   "execution_count": 37,
   "metadata": {},
   "outputs": [
    {
     "name": "stdout",
     "output_type": "stream",
     "text": [
      "-------FOR DEGREE 2------\n",
      "For K=2\n",
      "theta closed form [[ 30.59412838  13.49747999  -0.32388607]]\n",
      "theta gradient descent [[ 27.92921062  13.4090488   -0.23172263]]\n",
      "Lambda for degree k=2: 0.09\n",
      "-------TRAINING SET-------\n",
      "cost closed form 434.104144581\n",
      "cost gradient descent 436.149255621\n",
      "MSE closed form 868.208289162\n",
      "MSE train gradient descent 872.298511242\n",
      "-------TEST SET-------\n",
      "MSE closed form 1746.52410917\n",
      "MSE test gradient descent 1751.23607249\n",
      "-------------------------------------------------------------------\n",
      "For K=10\n",
      "theta closed form [[ 30.59412838  13.49747999  -0.32388607]]\n",
      "theta gradient descent [[ 26.72430027  13.5259451   -0.21595662]]\n",
      "Lambda for degree k=2: 0.09\n",
      "-------TRAINING SET-------\n",
      "cost closed form 434.104144581\n",
      "cost gradient descent 437.467763386\n",
      "MSE closed form 868.208289162\n",
      "MSE train gradient descent 874.935526773\n",
      "-------TEST SET-------\n",
      "MSE closed form 1746.52410917\n",
      "MSE test gradient descent 1768.28451793\n",
      "-------------------------------------------------------------------\n",
      "For K=100\n",
      "theta closed form [[ 30.59412838  13.49747999  -0.32388607]]\n",
      "theta gradient descent [[ 26.07198142  13.68454565  -0.20020816]]\n",
      "Lambda for degree k=2: 0.09\n",
      "-------TRAINING SET-------\n",
      "cost closed form 434.104144581\n",
      "cost gradient descent 438.690863501\n",
      "MSE closed form 868.208289162\n",
      "MSE train gradient descent 877.381727003\n",
      "-------TEST SET-------\n",
      "MSE closed form 1746.52410917\n",
      "MSE test gradient descent 1751.57499365\n",
      "-------------------------------------------------------------------\n"
     ]
    },
    {
     "data": {
      "image/png": "[encoded data removed]",
      "text/plain": [
       "<matplotlib.figure.Figure at 0x11a41d7b8>"
      ]
     },
     "metadata": {},
     "output_type": "display_data"
    }
   ],
   "source": [
    "print(\"-------FOR DEGREE 2------\")\n",
    "printer(X_train_2, y_train, X_test_2, y_test, 2, theta0_2, batchSize, threshold, 2, 0.0001)\n",
    "printer(X_train_2, y_train, X_test_2, y_test, 10, theta0_2, batchSize, threshold, 2,0.0001)\n",
    "printer(X_train_2, y_train, X_test_2, y_test, X_train_2.shape[0], theta0_2, batchSize, threshold, 2, 0.0001)"
   ]
  },
  {
   "cell_type": "code",
   "execution_count": 38,
   "metadata": {},
   "outputs": [
    {
     "name": "stdout",
     "output_type": "stream",
     "text": [
      "\n",
      "\n",
      "\n",
      "-------FOR DEGREE 3------\n",
      "For K=2\n",
      "theta closed form [[ 9.84407892 -0.86029913  1.40252111  0.51036454]]\n",
      "theta gradient descent [[ 6.03124036 -1.30760573  1.56369753  0.5297146 ]]\n",
      "Lambda for degree k=2: 0.09\n",
      "-------TRAINING SET-------\n",
      "cost closed form 22.1259120841\n",
      "cost gradient descent 24.6960543252\n",
      "MSE closed form 44.2518241682\n",
      "MSE train gradient descent 49.3921086503\n",
      "-------TEST SET-------\n",
      "MSE closed form 210.533001781\n",
      "MSE test gradient descent 207.316308727\n",
      "-------------------------------------------------------------------\n",
      "For K=10\n",
      "theta closed form [[ 9.84407892 -0.86029913  1.40252111  0.51036454]]\n",
      "theta gradient descent [[ 4.25956031 -1.48897527  1.62316571  0.53575602]]\n",
      "Lambda for degree k=2: 0.09\n",
      "-------TRAINING SET-------\n",
      "cost closed form 22.1259120841\n",
      "cost gradient descent 27.6212306083\n",
      "MSE closed form 44.2518241682\n",
      "MSE train gradient descent 55.2424612167\n",
      "-------TEST SET-------\n",
      "MSE closed form 210.533001781\n",
      "MSE test gradient descent 217.680095145\n",
      "-------------------------------------------------------------------\n",
      "For K=100\n",
      "theta closed form [[ 9.84407892 -0.86029913  1.40252111  0.51036454]]\n",
      "theta gradient descent [[ 1.45336013 -1.3030067   1.71934492  0.53555076]]\n",
      "Lambda for degree k=2: 0.09\n",
      "-------TRAINING SET-------\n",
      "cost closed form 22.1259120841\n",
      "cost gradient descent 34.7177519132\n",
      "MSE closed form 44.2518241682\n",
      "MSE train gradient descent 69.4355038263\n",
      "-------TEST SET-------\n",
      "MSE closed form 210.533001781\n",
      "MSE test gradient descent 217.304784097\n",
      "-------------------------------------------------------------------\n"
     ]
    },
    {
     "data": {
      "image/png": "[encoded data removed]",
      "text/plain": [
       "<matplotlib.figure.Figure at 0x11a6d4f98>"
      ]
     },
     "metadata": {},
     "output_type": "display_data"
    }
   ],
   "source": [
    "print(\"\\n\\n\")\n",
    "print(\"-------FOR DEGREE 3------\")\n",
    "printer(X_train_3, y_train, X_test_3, y_test, 2, theta0_3, batchSize, threshold, 3, 0.00001)\n",
    "printer(X_train_3, y_train, X_test_3, y_test, 10, theta0_3, batchSize, threshold, 3, 0.00001)\n",
    "printer(X_train_3, y_train, X_test_3, y_test, X_train_3.shape[0], theta0_3, batchSize, threshold, 3, 0.00001)"
   ]
  },
  {
   "cell_type": "code",
   "execution_count": 39,
   "metadata": {},
   "outputs": [
    {
     "name": "stdout",
     "output_type": "stream",
     "text": [
      "\n",
      "\n",
      "\n",
      "-------FOR DEGREE 5------\n",
      "For K=2\n",
      "theta closed form [[  1.07331711e+01   1.05149348e-01   1.13048434e+00   4.14649533e-01\n",
      "    9.18398999e-03   2.00833748e-03]]\n",
      "theta gradient descent [[ 0.00562329  0.01113941  0.02237419  0.1793333   0.06281211  0.01019624]]\n",
      "Lambda for degree k=2: 0.01\n",
      "-------TRAINING SET-------\n",
      "cost closed form 21.1855944191\n",
      "cost gradient descent 91.583435476\n",
      "MSE closed form 42.3711888382\n",
      "MSE train gradient descent 183.166870952\n",
      "-------TEST SET-------\n",
      "MSE closed form 208.690966099\n",
      "MSE test gradient descent 654.017857376\n",
      "-------------------------------------------------------------------\n",
      "For K=10\n",
      "theta closed form [[  1.07331711e+01   1.05149348e-01   1.13048434e+00   4.14649533e-01\n",
      "    9.18398999e-03   2.00833748e-03]]\n",
      "theta gradient descent [[ 0.00365007  0.00896494  0.01303201  0.14606698  0.06466766  0.01102534]]\n",
      "Lambda for degree k=2: 0.01\n",
      "-------TRAINING SET-------\n",
      "cost closed form 21.1855944191\n",
      "cost gradient descent 95.9652532036\n",
      "MSE closed form 42.3711888382\n",
      "MSE train gradient descent 191.930506407\n",
      "-------TEST SET-------\n",
      "MSE closed form 208.690966099\n",
      "MSE test gradient descent 682.701611346\n",
      "-------------------------------------------------------------------\n",
      "For K=100\n",
      "theta closed form [[  1.06929550e+01   1.02616384e-01   1.13524751e+00   4.15074650e-01\n",
      "    9.07059468e-03   1.99616264e-03]]\n",
      "theta gradient descent [[ 0.00224967  0.00663124  0.00741918  0.10882918  0.06630723  0.01187925]]\n",
      "Lambda for degree k=2: 0.09\n",
      "-------TRAINING SET-------\n",
      "cost closed form 21.1858068549\n",
      "cost gradient descent 102.905067988\n",
      "MSE closed form 42.3716137098\n",
      "MSE train gradient descent 205.810135976\n",
      "-------TEST SET-------\n",
      "MSE closed form 208.678200758\n",
      "MSE test gradient descent 714.747455791\n",
      "-------------------------------------------------------------------\n"
     ]
    },
    {
     "data": {
      "image/png": "[encoded data removed]",
      "text/plain": [
       "<matplotlib.figure.Figure at 0x11a923748>"
      ]
     },
     "metadata": {},
     "output_type": "display_data"
    }
   ],
   "source": [
    "print(\"\\n\\n\")\n",
    "print(\"-------FOR DEGREE 5------\")\n",
    "printer(X_train_5, y_train, X_test_5, y_test, 2, theta0_5, batchSize, 0.0001, 5, 0.000000001)\n",
    "printer(X_train_5, y_train, X_test_5, y_test, 10, theta0_5, batchSize, 0.0001, 5, 0.000000001)\n",
    "printer(X_train_5, y_train, X_test_5, y_test, X_train_5.shape[0], theta0_5, batchSize, 0.0001, 5, 0.000000001)"
   ]
  },
  {
   "cell_type": "code",
   "execution_count": null,
   "metadata": {
    "collapsed": true
   },
   "outputs": [],
   "source": []
  },
  {
   "cell_type": "code",
   "execution_count": null,
   "metadata": {
    "collapsed": true
   },
   "outputs": [],
   "source": []
  }
 ],
 "metadata": {
  "kernelspec": {
   "display_name": "Python 3",
   "language": "python",
   "name": "python3"
  },
  "language_info": {
   "codemirror_mode": {
    "name": "ipython",
    "version": 3
   },
   "file_extension": ".py",
   "mimetype": "text/x-python",
   "name": "python",
   "nbconvert_exporter": "python",
   "pygments_lexer": "ipython3",
   "version": "3.6.1"
  }
 },
 "nbformat": 4,
 "nbformat_minor": 2
}
