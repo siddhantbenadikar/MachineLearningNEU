{
 "cells": [
  {
   "cell_type": "markdown",
   "metadata": {},
   "source": [
    "# Linear Regression"
   ]
  },
  {
   "cell_type": "code",
   "execution_count": 1,
   "metadata": {
    "collapsed": true
   },
   "outputs": [],
   "source": [
    "import numpy as np\n",
    "import pandas as pd\n",
    "import matplotlib.pyplot as plt\n",
    "\n",
    "%matplotlib inline"
   ]
  },
  {
   "cell_type": "code",
   "execution_count": 55,
   "metadata": {
    "collapsed": true
   },
   "outputs": [],
   "source": [
    "import scipy.io as sio\n",
    "dataset1 = sio.loadmat('dataset1')"
   ]
  },
  {
   "cell_type": "code",
   "execution_count": 57,
   "metadata": {
    "collapsed": true
   },
   "outputs": [],
   "source": [
    "X_train, y_train = dataset1['X_trn'], dataset1['Y_trn']\n",
    "X_test, y_test = dataset1['X_tst'], dataset1['Y_tst']"
   ]
  },
  {
   "cell_type": "code",
   "execution_count": 58,
   "metadata": {},
   "outputs": [
    {
     "data": {
      "text/plain": [
       "((120, 1), (120, 1))"
      ]
     },
     "execution_count": 58,
     "metadata": {},
     "output_type": "execute_result"
    }
   ],
   "source": [
    "X_train.shape, y_train.shape"
   ]
  },
  {
   "cell_type": "code",
   "execution_count": 59,
   "metadata": {},
   "outputs": [
    {
     "data": {
      "text/plain": [
       "((100, 1), (100, 1))"
      ]
     },
     "execution_count": 59,
     "metadata": {},
     "output_type": "execute_result"
    }
   ],
   "source": [
    "X_test.shape, y_test.shape"
   ]
  },
  {
   "cell_type": "markdown",
   "metadata": {},
   "source": [
    "Data Visualization"
   ]
  },
  {
   "cell_type": "markdown",
   "metadata": {},
   "source": [
    "## Closed Form Solution Model"
   ]
  },
  {
   "cell_type": "code",
   "execution_count": 61,
   "metadata": {
    "collapsed": true
   },
   "outputs": [],
   "source": [
    "def linearRegression(X, y):\n",
    "    # θ = (X^T*X)^{-1}*X^T*y\n",
    "    var = np.dot(X.T, X)\n",
    "    cov = np.dot(X.T, y)\n",
    "    theta = np.dot(np.linalg.inv(var), cov)\n",
    "    return theta"
   ]
  },
  {
   "cell_type": "code",
   "execution_count": 1,
   "metadata": {
    "collapsed": true
   },
   "outputs": [],
   "source": [
    "def plotPrediction(y, y_pred, title = 'Training set'):\n",
    "    plt.scatter(y, y_pred)\n",
    "    plt.plot([min(y), max(y)], [min(y), max(y)], '--')\n",
    "    plt.xlabel('True value')\n",
    "    plt.ylabel('Predicted value')\n",
    "    plt.title(title)"
   ]
  },
  {
   "cell_type": "code",
   "execution_count": 2,
   "metadata": {
    "collapsed": true
   },
   "outputs": [],
   "source": [
    "def MSE(y, y_pred):\n",
    "    return np.mean((y - y_pred) ** 2)"
   ]
  },
  {
   "cell_type": "markdown",
   "metadata": {},
   "source": [
    "Adding Intercept term to Feature Vectors"
   ]
  },
  {
   "cell_type": "code",
   "execution_count": 64,
   "metadata": {
    "collapsed": true
   },
   "outputs": [],
   "source": [
    "X_train = np.hstack((np.ones((X_train.shape[0], 1)), X_train))\n",
    "X_test = np.hstack((np.ones((X_test.shape[0], 1)), X_test))"
   ]
  },
  {
   "cell_type": "code",
   "execution_count": 65,
   "metadata": {},
   "outputs": [
    {
     "data": {
      "text/plain": [
       "array([[ 17.81209242],\n",
       "       [  4.8607913 ]])"
      ]
     },
     "execution_count": 65,
     "metadata": {},
     "output_type": "execute_result"
    }
   ],
   "source": [
    "theta = linearRegression(X_train, y_train)\n",
    "theta"
   ]
  },
  {
   "cell_type": "code",
   "execution_count": 66,
   "metadata": {},
   "outputs": [
    {
     "name": "stdout",
     "output_type": "stream",
     "text": [
      "MSE is 78.7011\n"
     ]
    },
    {
     "data": {
      "image/png": "[encoded data removed]",
      "text/plain": [
       "<matplotlib.figure.Figure at 0x2399ad1b940>"
      ]
     },
     "metadata": {},
     "output_type": "display_data"
    }
   ],
   "source": [
    "y_train_predict = np.dot(X_train, theta)\n",
    "train_mse = MSE(y_train, y_train_predict)\n",
    "print('MSE is %.4f' % train_mse)\n",
    "plotPrediction(y_train, y_train_predict)"
   ]
  },
  {
   "cell_type": "code",
   "execution_count": 67,
   "metadata": {},
   "outputs": [
    {
     "name": "stdout",
     "output_type": "stream",
     "text": [
      "MSE is 2137.7926\n"
     ]
    },
    {
     "data": {
      "image/png": "[encoded data removed]",
      "text/plain": [
       "<matplotlib.figure.Figure at 0x2399aa9f438>"
      ]
     },
     "metadata": {},
     "output_type": "display_data"
    }
   ],
   "source": [
    "y_test_predict = np.dot(X_test, theta)\n",
    "test_mse = MSE(y_test, y_test_predict)\n",
    "print('MSE is %.4f' % test_mse)\n",
    "plotPrediction(y_test, y_test_predict, 'Test set')"
   ]
  },
  {
   "cell_type": "markdown",
   "metadata": {},
   "source": [
    "## Stochastic Gradient Descent Model (Batch Size = m)"
   ]
  },
  {
   "cell_type": "code",
   "execution_count": 71,
   "metadata": {
    "collapsed": true
   },
   "outputs": [],
   "source": [
    "def computeCost(X, y, theta):\n",
    "    inner = np.power(((X * theta.T) - y), 2)\n",
    "    return np.sum(inner) / (2 * len(X))"
   ]
  },
  {
   "cell_type": "code",
   "execution_count": 105,
   "metadata": {
    "collapsed": true
   },
   "outputs": [],
   "source": [
    "def stochasticGradientDescent(X, y, theta, alpha, iters, minibatch_size):\n",
    "    temp = np.matrix(np.zeros(theta.shape))\n",
    "    parameters = theta.ravel().shape[1]\n",
    "    cost = np.zeros(iters)\n",
    "    \n",
    "    for i in range(iters):\n",
    "        # idx = np.random.choice(10, size=5, replace = False)   # generates random samples without replacement (all unique)\n",
    "        for batch in range(0, X.shape[0], minibatch_size):\n",
    "            # Get pair of (X, y) of the current minibatch/chunk\n",
    "            X_mini = X[batch:batch + minibatch_size]\n",
    "            y_mini = y[batch:batch + minibatch_size]\n",
    "            \n",
    "            error = (X_mini * theta.T) - y_mini\n",
    "            \n",
    "            for j in range(parameters):\n",
    "                term = np.multiply(error, X_mini[:,j])\n",
    "                temp[0,j] = theta[0,j] - ((alpha / len(X_mini)) * np.sum(term))\n",
    "\n",
    "            theta = temp\n",
    "            \n",
    "        cost[i] = computeCost(X, y, theta)\n",
    "        \n",
    "        if i % 50 == 0:\n",
    "            print(\"Loss iter\",i,\": \",cost[i])\n",
    "        \n",
    "    return theta, cost"
   ]
  },
  {
   "cell_type": "code",
   "execution_count": 108,
   "metadata": {
    "collapsed": true
   },
   "outputs": [],
   "source": [
    "alpha = 0.01\n",
    "iters = 1000\n",
    "minibatch_size = 5\n",
    "theta0 = np.matrix(np.zeros(X_train.shape[1]))"
   ]
  },
  {
   "cell_type": "code",
   "execution_count": 107,
   "metadata": {},
   "outputs": [
    {
     "name": "stdout",
     "output_type": "stream",
     "text": [
      "Loss iter 0 :  54.148446028\n",
      "Loss iter 50 :  39.8000521106\n",
      "Loss iter 100 :  39.8000521106\n",
      "Loss iter 150 :  39.8000521106\n",
      "Loss iter 200 :  39.8000521106\n",
      "Loss iter 250 :  39.8000521106\n",
      "Loss iter 300 :  39.8000521106\n",
      "Loss iter 350 :  39.8000521106\n",
      "Loss iter 400 :  39.8000521106\n",
      "Loss iter 450 :  39.8000521106\n",
      "Loss iter 500 :  39.8000521106\n",
      "Loss iter 550 :  39.8000521106\n",
      "Loss iter 600 :  39.8000521106\n",
      "Loss iter 650 :  39.8000521106\n",
      "Loss iter 700 :  39.8000521106\n",
      "Loss iter 750 :  39.8000521106\n",
      "Loss iter 800 :  39.8000521106\n",
      "Loss iter 850 :  39.8000521106\n",
      "Loss iter 900 :  39.8000521106\n",
      "Loss iter 950 :  39.8000521106\n"
     ]
    },
    {
     "data": {
      "text/plain": [
       "matrix([[ 17.71255965,   5.26776856]])"
      ]
     },
     "execution_count": 107,
     "metadata": {},
     "output_type": "execute_result"
    }
   ],
   "source": [
    "theta_sg, cost = stochasticGradientDescent(X_train, y_train, theta0, alpha, iters, minibatch_size)\n",
    "theta_sg"
   ]
  },
  {
   "cell_type": "markdown",
   "metadata": {},
   "source": [
    "### Multinomial of features"
   ]
  },
  {
   "cell_type": "code",
   "execution_count": 111,
   "metadata": {},
   "outputs": [
    {
     "name": "stdout",
     "output_type": "stream",
     "text": [
      "[[ 9.49203678]\n",
      " [ 4.79191663]\n",
      " [ 1.52906587]]\n",
      "24.7419196363\n",
      "4413.5867675\n"
     ]
    }
   ],
   "source": [
    "X_train_2, X_test_2 = np.hstack((X_train, X_train[:, 1:] **2)), np.hstack((X_test, X_test[:, 1:] **2))\n",
    "theta_2 = linearRegression(X_train_2, y_train)\n",
    "\n",
    "y_train_predict_2 = np.dot(X_train_2, theta_2)\n",
    "print(MSE(y_train, y_train_predict_2))\n",
    "\n",
    "y_test_predict_2 = np.dot(X_test_2, theta_2)\n",
    "print(MSE(y_test, y_test_predict_2))"
   ]
  },
  {
   "cell_type": "code",
   "execution_count": 112,
   "metadata": {},
   "outputs": [
    {
     "name": "stdout",
     "output_type": "stream",
     "text": [
      "3.96786315703\n",
      "53.8311491635\n"
     ]
    }
   ],
   "source": [
    "X_train_3, X_test_3 = np.hstack((X_train, X_train[:, 1:] **2, X_train[:, 1:] **3)), np.hstack((X_test, X_test[:, 1:] **2, X_test[:, 1:] **3))\n",
    "theta_3 = linearRegression(X_train_3, y_train)\n",
    "\n",
    "y_train_predict_3 = np.dot(X_train_3, theta_3)\n",
    "print(MSE(y_train, y_train_predict_3))\n",
    "\n",
    "y_test_predict_3 = np.dot(X_test_3, theta_3)\n",
    "print(MSE(y_test, y_test_predict_3))"
   ]
  },
  {
   "cell_type": "code",
   "execution_count": 118,
   "metadata": {},
   "outputs": [
    {
     "name": "stdout",
     "output_type": "stream",
     "text": [
      "3.94688107228\n",
      "41.5094372635\n"
     ]
    }
   ],
   "source": [
    "X_train_5 = np.hstack((X_train, X_train[:, 1:] **2, X_train[:, 1:] **3, X_train[:, 1:] **4, X_train[:, 1:] **5))\n",
    "X_test_5 = np.hstack((X_test, X_test[:, 1:] **2, X_test[:, 1:] **3, X_test[:, 1:] **4, X_test[:, 1:] **5))\n",
    "theta_5 = linearRegression(X_train_5, y_train)\n",
    "\n",
    "y_train_predict_5 = np.dot(X_train_5, theta_5)\n",
    "print(MSE(y_train, y_train_predict_5))\n",
    "\n",
    "y_test_predict_5 = np.dot(X_test_5, theta_5)\n",
    "print(MSE(y_test, y_test_predict_5))"
   ]
  },
  {
   "cell_type": "code",
   "execution_count": 120,
   "metadata": {},
   "outputs": [
    {
     "data": {
      "text/plain": [
       "1293.1994896699009"
      ]
     },
     "execution_count": 120,
     "metadata": {},
     "output_type": "execute_result"
    }
   ],
   "source": [
    "computeCost(X=X_train_5, y=y_train, theta=theta_5)"
   ]
  },
  {
   "cell_type": "code",
   "execution_count": 124,
   "metadata": {},
   "outputs": [
    {
     "data": {
      "text/plain": [
       "array([[ 10.00815033],\n",
       "       [  0.20418927],\n",
       "       [  1.47413164],\n",
       "       [  0.47320168]])"
      ]
     },
     "execution_count": 124,
     "metadata": {},
     "output_type": "execute_result"
    }
   ],
   "source": [
    "theta_3 = linearRegression(X_train_3, y_train)\n",
    "theta_3"
   ]
  },
  {
   "cell_type": "code",
   "execution_count": null,
   "metadata": {
    "collapsed": true
   },
   "outputs": [],
   "source": []
  }
 ],
 "metadata": {
  "kernelspec": {
   "display_name": "Python 3",
   "language": "python",
   "name": "python3"
  },
  "language_info": {
   "codemirror_mode": {
    "name": "ipython",
    "version": 3
   },
   "file_extension": ".py",
   "mimetype": "text/x-python",
   "name": "python",
   "nbconvert_exporter": "python",
   "pygments_lexer": "ipython3",
   "version": "3.6.1"
  }
 },
 "nbformat": 4,
 "nbformat_minor": 2
}
