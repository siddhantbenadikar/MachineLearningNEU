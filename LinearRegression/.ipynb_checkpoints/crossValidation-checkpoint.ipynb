{
 "cells": [
  {
   "cell_type": "markdown",
   "metadata": {},
   "source": [
    "## Ridge Regression with K-fold Cross validation"
   ]
  },
  {
   "cell_type": "code",
   "execution_count": 1,
   "metadata": {
    "collapsed": true
   },
   "outputs": [],
   "source": [
    "import numpy as np\n",
    "import pandas as pd\n",
    "import matplotlib.pyplot as plt\n",
    "import scipy.io as scio\n",
    "import random\n",
    "%matplotlib inline"
   ]
  },
  {
   "cell_type": "code",
   "execution_count": 2,
   "metadata": {
    "collapsed": true
   },
   "outputs": [],
   "source": [
    "data = scio.loadmat('HW1_Data/dataset2')"
   ]
  },
  {
   "cell_type": "code",
   "execution_count": 3,
   "metadata": {
    "collapsed": true
   },
   "outputs": [],
   "source": [
    "def transform(X, degree):\n",
    "    Z = A = X\n",
    "    for i in range(degree-1):\n",
    "        Z = Z * A\n",
    "        X = np.insert(X, [i+1], Z, axis=1)\n",
    "    return np.insert(X, 0, 1, axis=1)"
   ]
  },
  {
   "cell_type": "code",
   "execution_count": 4,
   "metadata": {
    "collapsed": true
   },
   "outputs": [],
   "source": [
    "X_train = data['X_trn']\n",
    "y_train = data['Y_trn']\n",
    "X_test = data['X_tst']\n",
    "y_test = data['Y_tst']\n",
    "\n",
    "X_train_2 = np.matrix(transform(X_train, 2))\n",
    "X_train_3 = np.matrix(transform(X_train, 3))\n",
    "X_train_5 = np.matrix(transform(X_train, 5))\n",
    "\n",
    "X_test_2 = np.matrix(transform(X_test, 2))\n",
    "X_test_3 = np.matrix(transform(X_test, 3))\n",
    "X_test_5 = np.matrix(transform(X_test, 5))\n",
    "\n",
    "y_train = np.matrix(y_train)\n",
    "y_test = np.matrix(y_test)\n",
    "\n",
    "theta0_2 = np.matrix(np.zeros(3))\n",
    "theta0_3 = np.matrix(np.zeros(4))\n",
    "theta0_5 = np.matrix(np.zeros(6))\n",
    "\n",
    "alpha = 0.01\n",
    "batchSize = 15\n",
    "threshold = 0.001"
   ]
  },
  {
   "cell_type": "code",
   "execution_count": 5,
   "metadata": {
    "collapsed": true
   },
   "outputs": [],
   "source": [
    "def computeCost(X, y, theta):\n",
    "    inner = np.power(((X * theta.T) - y), 2)\n",
    "    return np.sum(inner) / (2 * len(X))"
   ]
  },
  {
   "cell_type": "code",
   "execution_count": 6,
   "metadata": {
    "collapsed": true
   },
   "outputs": [],
   "source": [
    "def MSE(y, y_pred):\n",
    "    y = np.asarray(y)\n",
    "    y_pred = np.asarray(y_pred)\n",
    "    return np.mean((y - y_pred) ** 2)"
   ]
  },
  {
   "cell_type": "code",
   "execution_count": 7,
   "metadata": {
    "collapsed": true
   },
   "outputs": [],
   "source": [
    "def ridgeClosedForm(X, y, l):\n",
    "    lI = l * np.identity(X.shape[1])\n",
    "    return (X.T * X + lI).I * (X.T * y)"
   ]
  },
  {
   "cell_type": "code",
   "execution_count": 8,
   "metadata": {
    "collapsed": true
   },
   "outputs": [],
   "source": [
    "def plotPrediction(y, y_pred, title = 'train set'):\n",
    "    plt.scatter(y, y_pred)\n",
    "    plt.plot([min(y), max(y)], [min(y), max(y)], '--')\n",
    "    plt.xlabel('true value')\n",
    "    plt.ylabel('predicted value')\n",
    "    plt.title(title)"
   ]
  },
  {
   "cell_type": "code",
   "execution_count": 9,
   "metadata": {
    "collapsed": true
   },
   "outputs": [],
   "source": [
    "def ridgeGradientDescent(X, y, theta, alpha, minibatch_size, threshold, l):\n",
    "    temp = np.matrix(np.zeros(theta.shape))\n",
    "    parameters = theta.ravel().shape[1]\n",
    "    cost = [np.inf]\n",
    "    i = 1\n",
    "\n",
    "    while True:\n",
    "        for k in range(len(X) // minibatch_size):\n",
    "            index_list = np.random.choice(len(X), size=minibatch_size, replace=False)\n",
    "            X_batch = X[index_list]\n",
    "            y_batch = y[index_list]\n",
    "            error = (X_batch * theta.T) - y_batch\n",
    "            \n",
    "            for j in range(parameters):\n",
    "                term = np.multiply(error, X_batch[:,j]) + np.multiply(l, theta)\n",
    "                temp[0,j] = theta[0,j] - ((alpha / len(X_batch)) * np.sum(term))\n",
    "\n",
    "            theta = temp\n",
    "            \n",
    "        cost.append(computeCost(X, y, theta))\n",
    "        if cost[-2] - cost[-1] < threshold and cost[-2] - cost[-1] > 0:\n",
    "            break\n",
    "            \n",
    "#         if i % 50 == 0:\n",
    "#             print(\"Loss iter\",i,\": \",cost[-1])\n",
    "#         i += 1\n",
    "        \n",
    "        \n",
    "    return theta, cost"
   ]
  },
  {
   "cell_type": "code",
   "execution_count": 10,
   "metadata": {
    "collapsed": true
   },
   "outputs": [],
   "source": [
    "def kFoldCV(X, y, fold):\n",
    "    lam = np.arange(0.01, 0.1, 0.01)\n",
    "    cost_lam = {}\n",
    "    for l in lam:\n",
    "        cost = 0\n",
    "        for i in range(0,fold-1):\n",
    "            data = np.concatenate((X, y), axis=1)\n",
    "            data_split = np.split(data, fold)\n",
    "            data1 = data_split[:i]\n",
    "            data2 = data_split[i+1:]\n",
    "            if not data1:\n",
    "                data_train = np.concatenate((data2[:]), axis=0)\n",
    "            else:\n",
    "                data_train = np.concatenate((data1,data2), axis=0)\n",
    "                data_train = np.concatenate((data_train[:]), axis=0)\n",
    "            data_hold = data_split[i]\n",
    "            cols = data_train.shape[1]\n",
    "            X_train = np.matrix(data_train[:, 0:cols - 1])\n",
    "            y_train = np.matrix(data_train[:, cols - 1:cols])\n",
    "            theta = ridgeClosedForm(X_train, y_train, l)\n",
    "            X_hold = np.matrix(data_hold[:, 0:cols - 1])\n",
    "            y_hold = np.matrix(data_hold[:, cols - 1:cols])\n",
    "            theta = theta.T\n",
    "            cost = cost + computeCost(X_hold, y_hold, theta)\n",
    "        avg_cost= cost/fold\n",
    "        cost_lam[l] = avg_cost\n",
    "        best_lam = min(cost_lam, key=lambda k: cost_lam[k])\n",
    "    return best_lam"
   ]
  },
  {
   "cell_type": "code",
   "execution_count": 11,
   "metadata": {
    "collapsed": true
   },
   "outputs": [],
   "source": [
    "def printer(X_train, y_train, X_test, y_test, fold, teta, size, threshold, degree, alpha):\n",
    "    print(\"For K=\"+str(fold))\n",
    "    lam = kFoldCV(X_train, y_train, fold)\n",
    "    theta_2_closed_form = ridgeClosedForm(X_train, y_train, lam)\n",
    "    theta_2_gd, cost_2_gd = ridgeGradientDescent(X_train, y_train, teta, alpha, size, threshold, lam)\n",
    "    print(\"theta closed form\", theta_2_closed_form.T)\n",
    "    print(\"theta gradient descent\", theta_2_gd)\n",
    "    print(\"Lambda for degree k=2:\", lam)\n",
    "    print(\"-------TRAINING SET-------\")\n",
    "    print(\"cost closed form\", computeCost(X_train, y_train, theta_2_closed_form.T))\n",
    "    print(\"cost gradient descent\", cost_2_gd[-1])\n",
    "    print(\"MSE closed form\", MSE(y_train, (X_train * theta_2_closed_form)))\n",
    "    print(\"MSE train gradient descent\", MSE(y_train, (X_train * theta_2_gd.T)))\n",
    "    print(\"-------TEST SET-------\")\n",
    "    print(\"MSE closed form\", MSE(y_test, (X_test * theta_2_closed_form)))\n",
    "    print(\"MSE test gradient descent\", MSE(y_test, (X_test * theta_2_gd.T)))\n",
    "    plotPrediction(np.asarray(y_train), np.asarray(X_train * theta_2_gd.T))\n",
    "    plotPrediction(np.asarray(y_test), np.asarray(X_test * theta_2_gd.T))\n",
    "    print(\"-------------------------------------------------------------------\")"
   ]
  },
  {
   "cell_type": "code",
   "execution_count": 12,
   "metadata": {},
   "outputs": [
    {
     "name": "stdout",
     "output_type": "stream",
     "text": [
      "-------FOR DEGREE 2------\n",
      "For K=2\n",
      "theta closed form [[ 30.59412838  13.49747999  -0.32388607]]\n",
      "theta gradient descent [[ 24.70087894  13.6460914   -0.10704878]]\n",
      "Lambda for degree k=2: 0.09\n",
      "-------TRAINING SET-------\n",
      "cost closed form 434.104144581\n",
      "cost gradient descent 442.223705982\n",
      "MSE closed form 868.208289162\n",
      "MSE train gradient descent 884.447411964\n",
      "-------TEST SET-------\n",
      "MSE closed form 1746.52410917\n",
      "MSE test gradient descent 1685.30954655\n",
      "-------------------------------------------------------------------\n",
      "For K=10\n",
      "theta closed form [[ 30.59412838  13.49747999  -0.32388607]]\n",
      "theta gradient descent [[ 27.82087674  13.69955661  -0.260459  ]]\n",
      "Lambda for degree k=2: 0.09\n",
      "-------TRAINING SET-------\n",
      "cost closed form 434.104144581\n",
      "cost gradient descent 436.236780113\n",
      "MSE closed form 868.208289162\n",
      "MSE train gradient descent 872.473560227\n",
      "-------TEST SET-------\n",
      "MSE closed form 1746.52410917\n",
      "MSE test gradient descent 1753.45657809\n",
      "-------------------------------------------------------------------\n",
      "For K=100\n",
      "theta closed form [[ 30.59412838  13.49747999  -0.32388607]]\n",
      "theta gradient descent [[ 23.78761668  13.55604633  -0.12188669]]\n",
      "Lambda for degree k=2: 0.09\n",
      "-------TRAINING SET-------\n",
      "cost closed form 434.104144581\n",
      "cost gradient descent 444.356517688\n",
      "MSE closed form 868.208289162\n",
      "MSE train gradient descent 888.713035376\n",
      "-------TEST SET-------\n",
      "MSE closed form 1746.52410917\n",
      "MSE test gradient descent 1768.96152665\n",
      "-------------------------------------------------------------------\n"
     ]
    },
    {
     "data": {
      "image/png": "[encoded data removed]",
      "text/plain": [
       "<matplotlib.figure.Figure at 0x10c8d06d8>"
      ]
     },
     "metadata": {},
     "output_type": "display_data"
    }
   ],
   "source": [
    "print(\"-------FOR DEGREE 2------\")\n",
    "printer(X_train_2, y_train, X_test_2, y_test, 2, theta0_2, batchSize, threshold, 2, 0.0001)\n",
    "printer(X_train_2, y_train, X_test_2, y_test, 10, theta0_2, batchSize, threshold, 2,0.0001)\n",
    "printer(X_train_2, y_train, X_test_2, y_test, X_train_2.shape[0], theta0_2, batchSize, threshold, 2, 0.0001)"
   ]
  },
  {
   "cell_type": "code",
   "execution_count": 13,
   "metadata": {},
   "outputs": [
    {
     "name": "stdout",
     "output_type": "stream",
     "text": [
      "\n",
      "\n",
      "\n",
      "-------FOR DEGREE 3------\n",
      "For K=2\n",
      "theta closed form [[ 9.84407892 -0.86029913  1.40252111  0.51036454]]\n",
      "theta gradient descent [[ 4.61926039 -1.45653812  1.62973259  0.52824055]]\n",
      "Lambda for degree k=2: 0.09\n",
      "-------TRAINING SET-------\n",
      "cost closed form 22.1259120841\n",
      "cost gradient descent 28.2719605826\n",
      "MSE closed form 44.2518241682\n",
      "MSE train gradient descent 56.5439211653\n",
      "-------TEST SET-------\n",
      "MSE closed form 210.533001781\n",
      "MSE test gradient descent 220.713758201\n",
      "-------------------------------------------------------------------\n",
      "For K=10\n",
      "theta closed form [[ 9.84407892 -0.86029913  1.40252111  0.51036454]]\n",
      "theta gradient descent [[ 2.6558805  -1.55593167  1.68174864  0.54226657]]\n",
      "Lambda for degree k=2: 0.09\n",
      "-------TRAINING SET-------\n",
      "cost closed form 22.1259120841\n",
      "cost gradient descent 31.1901550738\n",
      "MSE closed form 44.2518241682\n",
      "MSE train gradient descent 62.3803101476\n",
      "-------TEST SET-------\n",
      "MSE closed form 210.533001781\n",
      "MSE test gradient descent 217.166143952\n",
      "-------------------------------------------------------------------\n",
      "For K=100\n",
      "theta closed form [[ 9.84407892 -0.86029913  1.40252111  0.51036454]]\n",
      "theta gradient descent [[ 1.97372712 -1.4692174   1.71025534  0.54083706]]\n",
      "Lambda for degree k=2: 0.09\n",
      "-------TRAINING SET-------\n",
      "cost closed form 22.1259120841\n",
      "cost gradient descent 32.9915839463\n",
      "MSE closed form 44.2518241682\n",
      "MSE train gradient descent 65.9831678925\n",
      "-------TEST SET-------\n",
      "MSE closed form 210.533001781\n",
      "MSE test gradient descent 214.716230727\n",
      "-------------------------------------------------------------------\n"
     ]
    },
    {
     "data": {
      "image/png": "[encoded data removed]",
      "text/plain": [
       "<matplotlib.figure.Figure at 0x117642e10>"
      ]
     },
     "metadata": {},
     "output_type": "display_data"
    }
   ],
   "source": [
    "print(\"\\n\\n\")\n",
    "print(\"-------FOR DEGREE 3------\")\n",
    "printer(X_train_3, y_train, X_test_3, y_test, 2, theta0_3, batchSize, threshold, 3, 0.00001)\n",
    "printer(X_train_3, y_train, X_test_3, y_test, 10, theta0_3, batchSize, threshold, 3, 0.00001)\n",
    "printer(X_train_3, y_train, X_test_3, y_test, X_train_3.shape[0], theta0_3, batchSize, threshold, 3, 0.00001)"
   ]
  },
  {
   "cell_type": "code",
   "execution_count": 14,
   "metadata": {},
   "outputs": [
    {
     "name": "stdout",
     "output_type": "stream",
     "text": [
      "\n",
      "\n",
      "\n",
      "-------FOR DEGREE 5------\n",
      "For K=2\n",
      "theta closed form [[  1.07331711e+01   1.05149348e-01   1.13048434e+00   4.14649533e-01\n",
      "    9.18398999e-03   2.00833748e-03]]\n",
      "theta gradient descent [[ 0.00075485  0.00276785  0.00304337  0.0461765   0.06866128  0.01344737]]\n",
      "Lambda for degree k=2: 0.01\n",
      "-------TRAINING SET-------\n",
      "cost closed form 21.1855944191\n",
      "cost gradient descent 120.300103868\n",
      "MSE closed form 42.3711888382\n",
      "MSE train gradient descent 240.600207736\n",
      "-------TEST SET-------\n",
      "MSE closed form 208.690966099\n",
      "MSE test gradient descent 774.964303041\n",
      "-------------------------------------------------------------------\n",
      "For K=10\n",
      "theta closed form [[  1.07331711e+01   1.05149348e-01   1.13048434e+00   4.14649533e-01\n",
      "    9.18398999e-03   2.00833748e-03]]\n",
      "theta gradient descent [[ 0.00234285  0.00682125  0.00768467  0.11201445  0.06543152  0.011609  ]]\n",
      "Lambda for degree k=2: 0.01\n",
      "-------TRAINING SET-------\n",
      "cost closed form 21.1855944191\n",
      "cost gradient descent 102.876724742\n",
      "MSE closed form 42.3711888382\n",
      "MSE train gradient descent 205.753449484\n",
      "-------TEST SET-------\n",
      "MSE closed form 208.690966099\n",
      "MSE test gradient descent 710.638932039\n",
      "-------------------------------------------------------------------\n",
      "For K=100\n",
      "theta closed form [[  1.06929550e+01   1.02616384e-01   1.13524751e+00   4.15074650e-01\n",
      "    9.07059468e-03   1.99616264e-03]]\n",
      "theta gradient descent [[ 0.00013901  0.00044441  0.00214272  0.00774079  0.06817344  0.01398724]]\n",
      "Lambda for degree k=2: 0.09\n",
      "-------TRAINING SET-------\n",
      "cost closed form 21.1858068549\n",
      "cost gradient descent 133.949053213\n",
      "MSE closed form 42.3716137098\n",
      "MSE train gradient descent 267.898106426\n",
      "-------TEST SET-------\n",
      "MSE closed form 208.678200758\n",
      "MSE test gradient descent 816.114393465\n",
      "-------------------------------------------------------------------\n"
     ]
    },
    {
     "data": {
      "image/png": "[encoded data removed]",
      "text/plain": [
       "<matplotlib.figure.Figure at 0x11ae62320>"
      ]
     },
     "metadata": {},
     "output_type": "display_data"
    }
   ],
   "source": [
    "print(\"\\n\\n\")\n",
    "print(\"-------FOR DEGREE 5------\")\n",
    "printer(X_train_5, y_train, X_test_5, y_test, 2, theta0_5, batchSize, 0.0001, 5, 0.000000001)\n",
    "printer(X_train_5, y_train, X_test_5, y_test, 10, theta0_5, batchSize, 0.0001, 5, 0.000000001)\n",
    "printer(X_train_5, y_train, X_test_5, y_test, X_train_5.shape[0], theta0_5, batchSize, 0.0001, 5, 0.000000001)"
   ]
  },
  {
   "cell_type": "code",
   "execution_count": null,
   "metadata": {
    "collapsed": true
   },
   "outputs": [],
   "source": []
  },
  {
   "cell_type": "code",
   "execution_count": null,
   "metadata": {
    "collapsed": true
   },
   "outputs": [],
   "source": []
  }
 ],
 "metadata": {
  "kernelspec": {
   "display_name": "Python 3",
   "language": "python",
   "name": "python3"
  },
  "language_info": {
   "codemirror_mode": {
    "name": "ipython",
    "version": 3
   },
   "file_extension": ".py",
   "mimetype": "text/x-python",
   "name": "python",
   "nbconvert_exporter": "python",
   "pygments_lexer": "ipython3",
   "version": "3.6.1"
  }
 },
 "nbformat": 4,
 "nbformat_minor": 2
}
