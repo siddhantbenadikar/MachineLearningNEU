{
 "cells": [
  {
   "cell_type": "markdown",
   "metadata": {
    "collapsed": true
   },
   "source": [
    "## LINEAR REGRESSION"
   ]
  },
  {
   "cell_type": "code",
   "execution_count": 1,
   "metadata": {},
   "outputs": [],
   "source": [
    "import numpy as np\n",
    "import pandas as pd\n",
    "import matplotlib.pyplot as plt\n",
    "import scipy.io as scio\n",
    "%matplotlib inline"
   ]
  },
  {
   "cell_type": "code",
   "execution_count": 2,
   "metadata": {
    "collapsed": true
   },
   "outputs": [],
   "source": [
    "data = scio.loadmat('HW1_Data/dataset1')"
   ]
  },
  {
   "cell_type": "code",
   "execution_count": 3,
   "metadata": {
    "collapsed": true
   },
   "outputs": [],
   "source": [
    "X_train = data['X_trn']\n",
    "y_train = data['Y_trn']\n",
    "X_test = data['X_tst']\n",
    "y_test = data['Y_tst']"
   ]
  },
  {
   "cell_type": "code",
   "execution_count": 6,
   "metadata": {},
   "outputs": [],
   "source": [
    "X_train_2 = np.matrix(transform(X_train, 2))\n",
    "X_train_3 = np.matrix(transform(X_train, 3))\n",
    "X_train_5 = np.matrix(transform(X_train, 5))\n",
    "\n",
    "X_test_2 = np.matrix(transform(X_test, 2))\n",
    "X_test_3 = np.matrix(transform(X_test, 3))\n",
    "X_test_5 = np.matrix(transform(X_test, 5))"
   ]
  },
  {
   "cell_type": "code",
   "execution_count": 7,
   "metadata": {},
   "outputs": [
    {
     "name": "stdout",
     "output_type": "stream",
     "text": [
      "(120, 3)\n",
      "(120, 1)\n"
     ]
    }
   ],
   "source": [
    "y_train = np.matrix(y_train)\n",
    "y_test = np.matrix(y_test)\n",
    "                     \n",
    "print(X_train_2.shape)\n",
    "print(y_train.shape)\n",
    "\n",
    "theta0_2 = np.matrix(np.zeros(3))\n",
    "theta0_3 = np.matrix(np.zeros(4))\n",
    "theta0_5 = np.matrix(np.zeros(5))\n",
    "\n",
    "alpha = 0.01\n",
    "batchSize = 10\n",
    "threshold = 0.001"
   ]
  },
  {
   "cell_type": "code",
   "execution_count": 24,
   "metadata": {
    "collapsed": true
   },
   "outputs": [],
   "source": [
    "def MSE(y, y_pred):\n",
    "    y = np.asarray(y)\n",
    "    y_pred = np.asarray(y_pred)\n",
    "    return np.mean((y - y_pred) ** 2)"
   ]
  },
  {
   "cell_type": "code",
   "execution_count": 9,
   "metadata": {
    "collapsed": true
   },
   "outputs": [],
   "source": [
    "def computeCost(X, y, theta):\n",
    "    inner = np.power(((X * theta.T) - y), 2)\n",
    "    return np.sum(inner) / (2 * len(X))"
   ]
  },
  {
   "cell_type": "code",
   "execution_count": 10,
   "metadata": {
    "collapsed": true
   },
   "outputs": [],
   "source": [
    "def closedFormEquation(X, y):\n",
    "    return (X.T * X).I * (X.T * y) "
   ]
  },
  {
   "cell_type": "code",
   "execution_count": 11,
   "metadata": {
    "collapsed": true
   },
   "outputs": [],
   "source": [
    "def transform(X, degree):\n",
    "    Z = A = X\n",
    "    for i in range(degree-1):\n",
    "        Z = Z * A\n",
    "        X = np.insert(X, [i+1], Z, axis=1)\n",
    "    return np.insert(X, 0, 1, axis=1)\n",
    "    "
   ]
  },
  {
   "cell_type": "code",
   "execution_count": 12,
   "metadata": {
    "collapsed": true
   },
   "outputs": [],
   "source": [
    "# def batchGradientDescent(X, y, theta, alpha):\n",
    "#     temp = np.matrix(np.zeros(theta.shape))\n",
    "#     parameters = theta.ravel().shape[1]\n",
    "#     cost = [np.inf]\n",
    "#     i = 1\n",
    "\n",
    "#     while True:\n",
    "#         error = (X * theta.T) - y\n",
    "        \n",
    "#         for j in range(parameters):\n",
    "#             term = np.multiply(error, X[:,j])\n",
    "#             temp[0,j] = theta[0,j] - ((alpha / len(X)) * np.sum(term))\n",
    "            \n",
    "#         theta = temp\n",
    "#         cost.append(computeCost(X, y, theta))\n",
    "        \n",
    "#         if cost[-2] - cost[-1] < 0.0001 and cost[-2] - cost[-1] > 0:\n",
    "#             break\n",
    "        \n",
    "#         if i % 50 == 0:\n",
    "#             print(\"Loss iter\",i,\": \",cost[-1])\n",
    "#         i += 1\n",
    "        \n",
    "#     return theta, cost"
   ]
  },
  {
   "cell_type": "code",
   "execution_count": 36,
   "metadata": {
    "collapsed": true
   },
   "outputs": [],
   "source": [
    "def stochasticGradientDescent(X, y, theta, alpha, minibatch_size, threshold):\n",
    "    temp = np.matrix(np.zeros(theta.shape))\n",
    "    parameters = theta.ravel().shape[1]\n",
    "    cost = [np.inf]\n",
    "    i = 1\n",
    "\n",
    "    while True:\n",
    "        for k in range(len(X) // minibatch_size):\n",
    "            index_list = np.random.choice(len(X), size=minibatch_size, replace=False)\n",
    "            X_batch = X[index_list]\n",
    "            y_batch = y[index_list]\n",
    "            error = (X_batch * theta.T) - y_batch\n",
    "            \n",
    "            for j in range(parameters):\n",
    "                term = np.multiply(error, X_batch[:,j])\n",
    "                temp[0,j] = theta[0,j] - ((alpha / len(X_batch)) * np.sum(term))\n",
    "\n",
    "            theta = temp\n",
    "            \n",
    "        cost.append(computeCost(X, y, theta))\n",
    "        if cost[-2] - cost[-1] < threshold and cost[-2] - cost[-1] > 0:\n",
    "            break\n",
    "            \n",
    "#         if i % 50 == 0:\n",
    "#             print(\"Loss iter\",i,\": \",cost[-1])\n",
    "#         i += 1\n",
    "        \n",
    "        \n",
    "    return theta, cost"
   ]
  },
  {
   "cell_type": "markdown",
   "metadata": {},
   "source": [
    "## For degree 2"
   ]
  },
  {
   "cell_type": "code",
   "execution_count": 37,
   "metadata": {},
   "outputs": [
    {
     "name": "stdout",
     "output_type": "stream",
     "text": [
      "For degree 2\n"
     ]
    },
    {
     "ename": "KeyboardInterrupt",
     "evalue": "",
     "output_type": "error",
     "traceback": [
      "\u001b[0;31m---------------------------------------------------------------------------\u001b[0m",
      "\u001b[0;31mKeyboardInterrupt\u001b[0m                         Traceback (most recent call last)",
      "\u001b[0;32m<ipython-input-37-86a00a119c9b>\u001b[0m in \u001b[0;36m<module>\u001b[0;34m()\u001b[0m\n\u001b[1;32m      1\u001b[0m \u001b[0mprint\u001b[0m\u001b[0;34m(\u001b[0m\u001b[0;34m\"For degree 2\"\u001b[0m\u001b[0;34m)\u001b[0m\u001b[0;34m\u001b[0m\u001b[0m\n\u001b[1;32m      2\u001b[0m \u001b[0mtheta_2_closed_form\u001b[0m \u001b[0;34m=\u001b[0m \u001b[0mclosedFormEquation\u001b[0m\u001b[0;34m(\u001b[0m\u001b[0mX_train_2\u001b[0m\u001b[0;34m,\u001b[0m \u001b[0my_train\u001b[0m\u001b[0;34m)\u001b[0m\u001b[0;34m\u001b[0m\u001b[0m\n\u001b[0;32m----> 3\u001b[0;31m \u001b[0mtheta_2_gd\u001b[0m\u001b[0;34m,\u001b[0m \u001b[0mcost_2_gd\u001b[0m \u001b[0;34m=\u001b[0m \u001b[0mstochasticGradientDescent\u001b[0m\u001b[0;34m(\u001b[0m\u001b[0mX_train_2\u001b[0m\u001b[0;34m,\u001b[0m \u001b[0my_train\u001b[0m\u001b[0;34m,\u001b[0m \u001b[0mtheta0_2\u001b[0m\u001b[0;34m,\u001b[0m \u001b[0malpha\u001b[0m\u001b[0;34m,\u001b[0m \u001b[0mbatchSize\u001b[0m\u001b[0;34m,\u001b[0m \u001b[0mthreshold\u001b[0m\u001b[0;34m)\u001b[0m\u001b[0;34m\u001b[0m\u001b[0m\n\u001b[0m\u001b[1;32m      4\u001b[0m \u001b[0mprint\u001b[0m\u001b[0;34m(\u001b[0m\u001b[0;34m\"theta closed form\"\u001b[0m\u001b[0;34m,\u001b[0m \u001b[0mtheta_2_closed_form\u001b[0m\u001b[0;34m.\u001b[0m\u001b[0mT\u001b[0m\u001b[0;34m)\u001b[0m\u001b[0;34m\u001b[0m\u001b[0m\n\u001b[1;32m      5\u001b[0m \u001b[0mprint\u001b[0m\u001b[0;34m(\u001b[0m\u001b[0;34m\"cost closed form\"\u001b[0m\u001b[0;34m,\u001b[0m \u001b[0mcomputeCost\u001b[0m\u001b[0;34m(\u001b[0m\u001b[0mX_train_2\u001b[0m\u001b[0;34m,\u001b[0m \u001b[0my_train\u001b[0m\u001b[0;34m,\u001b[0m \u001b[0mtheta_2_closed_form\u001b[0m\u001b[0;34m.\u001b[0m\u001b[0mT\u001b[0m\u001b[0;34m)\u001b[0m\u001b[0;34m)\u001b[0m\u001b[0;34m\u001b[0m\u001b[0m\n",
      "\u001b[0;32m<ipython-input-36-3a9fe7d11e77>\u001b[0m in \u001b[0;36mstochasticGradientDescent\u001b[0;34m(X, y, theta, alpha, minibatch_size, threshold)\u001b[0m\n\u001b[1;32m      7\u001b[0m     \u001b[0;32mwhile\u001b[0m \u001b[0;32mTrue\u001b[0m\u001b[0;34m:\u001b[0m\u001b[0;34m\u001b[0m\u001b[0m\n\u001b[1;32m      8\u001b[0m         \u001b[0;32mfor\u001b[0m \u001b[0mk\u001b[0m \u001b[0;32min\u001b[0m \u001b[0mrange\u001b[0m\u001b[0;34m(\u001b[0m\u001b[0mlen\u001b[0m\u001b[0;34m(\u001b[0m\u001b[0mX\u001b[0m\u001b[0;34m)\u001b[0m \u001b[0;34m//\u001b[0m \u001b[0mminibatch_size\u001b[0m\u001b[0;34m)\u001b[0m\u001b[0;34m:\u001b[0m\u001b[0;34m\u001b[0m\u001b[0m\n\u001b[0;32m----> 9\u001b[0;31m             \u001b[0mindex_list\u001b[0m \u001b[0;34m=\u001b[0m \u001b[0mnp\u001b[0m\u001b[0;34m.\u001b[0m\u001b[0mrandom\u001b[0m\u001b[0;34m.\u001b[0m\u001b[0mchoice\u001b[0m\u001b[0;34m(\u001b[0m\u001b[0mlen\u001b[0m\u001b[0;34m(\u001b[0m\u001b[0mX\u001b[0m\u001b[0;34m)\u001b[0m\u001b[0;34m,\u001b[0m \u001b[0msize\u001b[0m\u001b[0;34m=\u001b[0m\u001b[0mminibatch_size\u001b[0m\u001b[0;34m,\u001b[0m \u001b[0mreplace\u001b[0m\u001b[0;34m=\u001b[0m\u001b[0;32mFalse\u001b[0m\u001b[0;34m)\u001b[0m\u001b[0;34m\u001b[0m\u001b[0m\n\u001b[0m\u001b[1;32m     10\u001b[0m             \u001b[0mX_batch\u001b[0m \u001b[0;34m=\u001b[0m \u001b[0mX\u001b[0m\u001b[0;34m[\u001b[0m\u001b[0mindex_list\u001b[0m\u001b[0;34m]\u001b[0m\u001b[0;34m\u001b[0m\u001b[0m\n\u001b[1;32m     11\u001b[0m             \u001b[0my_batch\u001b[0m \u001b[0;34m=\u001b[0m \u001b[0my\u001b[0m\u001b[0;34m[\u001b[0m\u001b[0mindex_list\u001b[0m\u001b[0;34m]\u001b[0m\u001b[0;34m\u001b[0m\u001b[0m\n",
      "\u001b[0;32mmtrand.pyx\u001b[0m in \u001b[0;36mmtrand.RandomState.choice (numpy/random/mtrand/mtrand.c:18766)\u001b[0;34m()\u001b[0m\n",
      "\u001b[0;32mmtrand.pyx\u001b[0m in \u001b[0;36mmtrand.RandomState.permutation (numpy/random/mtrand/mtrand.c:39717)\u001b[0;34m()\u001b[0m\n",
      "\u001b[0;32mmtrand.pyx\u001b[0m in \u001b[0;36mmtrand.RandomState.shuffle (numpy/random/mtrand/mtrand.c:38749)\u001b[0;34m()\u001b[0m\n",
      "\u001b[0;32m/Users/siddhantbenadikar/anaconda/lib/python3.6/site-packages/numpy/core/_internal.py\u001b[0m in \u001b[0;36m__init__\u001b[0;34m(self, array, ptr)\u001b[0m\n\u001b[1;32m    225\u001b[0m     \u001b[0;32mdef\u001b[0m \u001b[0m__init__\u001b[0m\u001b[0;34m(\u001b[0m\u001b[0mself\u001b[0m\u001b[0;34m,\u001b[0m \u001b[0marray\u001b[0m\u001b[0;34m,\u001b[0m \u001b[0mptr\u001b[0m\u001b[0;34m=\u001b[0m\u001b[0;32mNone\u001b[0m\u001b[0;34m)\u001b[0m\u001b[0;34m:\u001b[0m\u001b[0;34m\u001b[0m\u001b[0m\n\u001b[1;32m    226\u001b[0m         \u001b[0;32mtry\u001b[0m\u001b[0;34m:\u001b[0m\u001b[0;34m\u001b[0m\u001b[0m\n\u001b[0;32m--> 227\u001b[0;31m             \u001b[0mself\u001b[0m\u001b[0;34m.\u001b[0m\u001b[0m_ctypes\u001b[0m \u001b[0;34m=\u001b[0m \u001b[0mctypes\u001b[0m\u001b[0;34m\u001b[0m\u001b[0m\n\u001b[0m\u001b[1;32m    228\u001b[0m         \u001b[0;32mexcept\u001b[0m \u001b[0mImportError\u001b[0m\u001b[0;34m:\u001b[0m\u001b[0;34m\u001b[0m\u001b[0m\n\u001b[1;32m    229\u001b[0m             \u001b[0mself\u001b[0m\u001b[0;34m.\u001b[0m\u001b[0m_ctypes\u001b[0m \u001b[0;34m=\u001b[0m \u001b[0m_missing_ctypes\u001b[0m\u001b[0;34m(\u001b[0m\u001b[0;34m)\u001b[0m\u001b[0;34m\u001b[0m\u001b[0m\n",
      "\u001b[0;31mKeyboardInterrupt\u001b[0m: "
     ]
    }
   ],
   "source": [
    "print(\"For degree 2\")\n",
    "theta_2_closed_form = closedFormEquation(X_train_2, y_train)\n",
    "theta_2_gd, cost_2_gd = stochasticGradientDescent(X_train_2, y_train, theta0_2, alpha, batchSize, threshold)\n",
    "print(\"theta closed form\", theta_2_closed_form.T)\n",
    "print(\"cost closed form\", computeCost(X_train_2, y_train, theta_2_closed_form.T))\n",
    "print(\"MSE closed form\", MSE(y_train, (X_train_2 * theta_2_closed_form)))\n",
    "print(\"theta gradient descent\", theta_2_gd.T)\n",
    "print(\"cost gradient descent\", cost_2_gd)\n",
    "print(\"MSE gradient descent\", MSE(y_train, (X_train_2 * theta_2_gd)))"
   ]
  },
  {
   "cell_type": "code",
   "execution_count": 300,
   "metadata": {},
   "outputs": [
    {
     "name": "stdout",
     "output_type": "stream",
     "text": [
      "Loss iter 50 :  24.5740094957\n",
      "Loss iter 100 :  20.12881197\n",
      "Loss iter 150 :  17.4000508393\n",
      "Loss iter 200 :  15.6314854156\n",
      "Loss iter 250 :  14.4848675425\n",
      "Loss iter 300 :  13.7414768563\n",
      "Loss iter 350 :  13.2595118256\n",
      "Loss iter 400 :  12.9470377858\n",
      "Loss iter 450 :  12.7444504208\n",
      "Loss iter 500 :  12.6131062603\n",
      "Loss iter 550 :  12.5279514507\n",
      "Loss iter 600 :  12.4727427412\n",
      "Loss iter 650 :  12.4369490894\n",
      "Loss iter 700 :  12.4137428685\n",
      "Loss iter 750 :  12.3986974998\n",
      "Loss iter 800 :  12.3889430843\n",
      "Loss iter 850 :  12.3826189707\n",
      "[[ 9.26306295  4.79403477  1.55285355]]\n"
     ]
    }
   ],
   "source": [
    "batchgradient_output = batchGradientDescent(X, Y, theta0, alpha)\n",
    "print(batchgradient_output[0])"
   ]
  },
  {
   "cell_type": "code",
   "execution_count": 271,
   "metadata": {},
   "outputs": [
    {
     "name": "stdout",
     "output_type": "stream",
     "text": [
      "Loss iter 50 :  16.0635079382\n",
      "Loss iter 100 :  14.1465525673\n",
      "Loss iter 150 :  21.2995961297\n",
      "Loss iter 200 :  12.382796074\n",
      "Loss iter 250 :  13.0879614618\n",
      "Loss iter 300 :  15.2295776318\n",
      "Loss iter 350 :  13.0215363655\n",
      "Loss iter 400 :  12.5228428346\n",
      "Loss iter 450 :  12.3871894077\n",
      "Loss iter 500 :  14.736829906\n",
      "Loss iter 550 :  13.0043887638\n",
      "Loss iter 600 :  14.9579408859\n",
      "Loss iter 650 :  13.6223096823\n",
      "Loss iter 700 :  12.6352211376\n",
      "Loss iter 750 :  13.6128033782\n",
      "Loss iter 800 :  15.2411627979\n",
      "Loss iter 850 :  12.4338035113\n",
      "Loss iter 900 :  14.4616295676\n",
      "Loss iter 950 :  13.1382339921\n",
      "Loss iter 1000 :  15.5302288429\n",
      "Loss iter 1050 :  12.8475425769\n",
      "Loss iter 1100 :  13.6306805268\n",
      "Loss iter 1150 :  12.5213803415\n",
      "Loss iter 1200 :  12.7295164103\n",
      "Loss iter 1250 :  13.3308024101\n",
      "Loss iter 1300 :  12.8615662386\n",
      "Loss iter 1350 :  12.3713620767\n",
      "Loss iter 1400 :  12.5046703442\n",
      "Loss iter 1450 :  12.562362578\n",
      "Loss iter 1500 :  14.1020352581\n",
      "Loss iter 1550 :  12.4504086528\n",
      "Loss iter 1600 :  14.4090397864\n",
      "Loss iter 1650 :  13.2895018832\n",
      "Loss iter 1700 :  12.5983306013\n",
      "Loss iter 1750 :  12.5332392861\n",
      "Loss iter 1800 :  12.4447917365\n",
      "Loss iter 1850 :  13.1334513465\n",
      "Loss iter 1900 :  12.3821188792\n",
      "Loss iter 1950 :  13.822629462\n",
      "Loss iter 2000 :  14.7167549049\n",
      "Loss iter 2050 :  13.0696867043\n",
      "Loss iter 2100 :  12.6144206698\n",
      "Loss iter 2150 :  12.4763143228\n",
      "Loss iter 2200 :  14.2192483051\n",
      "Loss iter 2250 :  13.1575551017\n",
      "Loss iter 2300 :  12.5453835696\n",
      "Loss iter 2350 :  13.9054058812\n",
      "Loss iter 2400 :  12.9240997465\n",
      "Loss iter 2450 :  12.9928295706\n",
      "Loss iter 2500 :  15.0599310982\n",
      "Loss iter 2550 :  12.9259833386\n",
      "Loss iter 2600 :  12.4975309126\n",
      "Loss iter 2650 :  12.5444318959\n",
      "Loss iter 2700 :  13.232054528\n",
      "Loss iter 2750 :  12.8513548645\n",
      "Loss iter 2800 :  13.8660092877\n",
      "Loss iter 2850 :  12.4320841338\n",
      "Loss iter 2900 :  12.8448246793\n",
      "Loss iter 2950 :  12.4351630235\n",
      "Loss iter 3000 :  12.3860083693\n",
      "Loss iter 3050 :  14.6656469963\n",
      "Loss iter 3100 :  13.2498025055\n",
      "Loss iter 3150 :  12.3980034569\n",
      "Loss iter 3200 :  12.4743481818\n",
      "Loss iter 3250 :  15.0605305601\n",
      "Loss iter 3300 :  12.6059714704\n",
      "Loss iter 3350 :  12.7739594359\n",
      "Loss iter 3400 :  13.7931816381\n",
      "Loss iter 3450 :  12.390312831\n",
      "Loss iter 3500 :  13.6053623145\n",
      "Loss iter 3550 :  12.4712425589\n",
      "Loss iter 3600 :  14.2903544595\n",
      "Loss iter 3650 :  12.9345534699\n",
      "Loss iter 3700 :  12.487554775\n",
      "Loss iter 3750 :  13.2561463266\n",
      "Loss iter 3800 :  13.9236500138\n",
      "Loss iter 3850 :  12.5258616643\n",
      "Loss iter 3900 :  12.5280243589\n",
      "Loss iter 3950 :  13.3505705013\n",
      "Loss iter 4000 :  12.4786331296\n",
      "Loss iter 4050 :  13.7651300106\n",
      "Loss iter 4100 :  12.4322605168\n",
      "Loss iter 4150 :  12.5498391347\n",
      "Loss iter 4200 :  12.8111840481\n",
      "Loss iter 4250 :  14.404931756\n",
      "Loss iter 4300 :  12.7555434844\n",
      "Loss iter 4350 :  12.7206094256\n",
      "Loss iter 4400 :  12.5353018302\n",
      "Loss iter 4450 :  12.6668501327\n",
      "Loss iter 4500 :  20.9348347243\n",
      "Loss iter 4550 :  12.5475232547\n",
      "Loss iter 4600 :  15.4006722223\n",
      "Loss iter 4650 :  13.8635528781\n",
      "Loss iter 4700 :  13.0515991221\n",
      "Loss iter 4750 :  12.6091657392\n",
      "Loss iter 4800 :  15.9802697889\n",
      "Loss iter 4850 :  15.5050001614\n",
      "Loss iter 4900 :  14.7913023105\n",
      "Loss iter 4950 :  14.1034490731\n",
      "Loss iter 5000 :  14.904144043\n",
      "Loss iter 5050 :  12.5156169455\n",
      "Loss iter 5100 :  12.9024397672\n",
      "Loss iter 5150 :  14.9442737883\n",
      "Loss iter 5200 :  12.4614957496\n",
      "Loss iter 5250 :  13.9760309075\n",
      "Loss iter 5300 :  12.6463468384\n",
      "Loss iter 5350 :  13.7704865855\n",
      "Loss iter 5400 :  13.1421529562\n",
      "Loss iter 5450 :  12.4130215011\n",
      "Loss iter 5500 :  12.4590738428\n",
      "Loss iter 5550 :  16.1172785111\n",
      "Loss iter 5600 :  13.6610112363\n",
      "Loss iter 5650 :  12.6609773529\n",
      "Loss iter 5700 :  12.5220771799\n",
      "Loss iter 5750 :  14.2792727792\n",
      "Loss iter 5800 :  14.755028528\n",
      "Loss iter 5850 :  12.7383448904\n",
      "Loss iter 5900 :  12.3803539691\n",
      "Loss iter 5950 :  15.3157842076\n",
      "Loss iter 6000 :  13.6353424643\n",
      "Loss iter 6050 :  12.3957785707\n",
      "Loss iter 6100 :  13.5558349397\n",
      "Loss iter 6150 :  12.6932367857\n",
      "Loss iter 6200 :  18.0431810166\n",
      "Loss iter 6250 :  12.5474840541\n",
      "Loss iter 6300 :  12.9308928436\n",
      "Loss iter 6350 :  12.3806380053\n",
      "Loss iter 6400 :  14.154221427\n",
      "Loss iter 6450 :  12.5253911778\n",
      "Loss iter 6500 :  12.9306178281\n",
      "Loss iter 6550 :  13.4824009897\n",
      "Loss iter 6600 :  12.5264774568\n",
      "Loss iter 6650 :  13.7432858672\n",
      "Loss iter 6700 :  13.62716774\n",
      "Loss iter 6750 :  12.5970314297\n",
      "Loss iter 6800 :  12.4735520696\n",
      "Loss iter 6850 :  12.4935840968\n",
      "Loss iter 6900 :  15.8830547467\n",
      "[[ 9.42975775  4.62745549  1.54672187]]\n"
     ]
    }
   ],
   "source": [
    "stochasticgradient_output = stochasticGradientDescent(X, Y, theta0, alpha, batchSize, 0.0001)\n",
    "print(stochasticgradient_output[0])"
   ]
  },
  {
   "cell_type": "code",
   "execution_count": 272,
   "metadata": {},
   "outputs": [
    {
     "name": "stdout",
     "output_type": "stream",
     "text": [
      "12.3709598182\n"
     ]
    }
   ],
   "source": [
    "print(computeCost(X, Y, closed_form_output.T))"
   ]
  },
  {
   "cell_type": "code",
   "execution_count": 273,
   "metadata": {},
   "outputs": [
    {
     "name": "stdout",
     "output_type": "stream",
     "text": [
      "12.3824186124\n"
     ]
    }
   ],
   "source": [
    "print(computeCost(X, Y, batchgradient_output[0]))"
   ]
  },
  {
   "cell_type": "code",
   "execution_count": 274,
   "metadata": {},
   "outputs": [
    {
     "name": "stdout",
     "output_type": "stream",
     "text": [
      "12.4471893075\n"
     ]
    }
   ],
   "source": [
    "print(computeCost(X, Y, stochasticgradient_output[0]))"
   ]
  },
  {
   "cell_type": "code",
   "execution_count": 275,
   "metadata": {},
   "outputs": [
    {
     "data": {
      "text/plain": [
       "[<matplotlib.lines.Line2D at 0x118ca81d0>]"
      ]
     },
     "execution_count": 275,
     "metadata": {},
     "output_type": "execute_result"
    },
    {
     "data": {
      "image/png": "[encoded data removed]",
      "text/plain": [
       "<matplotlib.figure.Figure at 0x117a27ba8>"
      ]
     },
     "metadata": {},
     "output_type": "display_data"
    }
   ],
   "source": [
    "fig, ax = plt.subplots(figsize=(12,8))\n",
    "plt.plot(np.arange(len(stochasticgradient_output[1])), stochasticgradient_output[1])"
   ]
  }
 ],
 "metadata": {
  "kernelspec": {
   "display_name": "Python 3",
   "language": "python",
   "name": "python3"
  },
  "language_info": {
   "codemirror_mode": {
    "name": "ipython",
    "version": 3
   },
   "file_extension": ".py",
   "mimetype": "text/x-python",
   "name": "python",
   "nbconvert_exporter": "python",
   "pygments_lexer": "ipython3",
   "version": "3.6.1"
  }
 },
 "nbformat": 4,
 "nbformat_minor": 2
}
