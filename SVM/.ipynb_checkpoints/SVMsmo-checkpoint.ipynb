{
 "cells": [
  {
   "cell_type": "markdown",
   "metadata": {},
   "source": [
    "## Support Vector Machine: SMO"
   ]
  },
  {
   "cell_type": "code",
   "execution_count": 1,
   "metadata": {
    "collapsed": true
   },
   "outputs": [],
   "source": [
    "import numpy as np\n",
    "import pandas as pd\n",
    "import matplotlib.pyplot as plt\n",
    "import scipy.io as scio\n",
    "from sklearn.svm import LinearSVC"
   ]
  },
  {
   "cell_type": "code",
   "execution_count": 2,
   "metadata": {
    "collapsed": true
   },
   "outputs": [],
   "source": [
    "data = scio.loadmat('HW2_Data/data1')"
   ]
  },
  {
   "cell_type": "code",
   "execution_count": 3,
   "metadata": {
    "collapsed": true
   },
   "outputs": [],
   "source": [
    "X_trn = np.insert(data['X_trn'], 0, 1, axis=1)\n",
    "y_trn = data['Y_trn']\n",
    "X_tst = np.insert(data['X_tst'], 0, 1, axis=1)\n",
    "y_tst = data['Y_tst']"
   ]
  },
  {
   "cell_type": "code",
   "execution_count": 4,
   "metadata": {
    "collapsed": true
   },
   "outputs": [],
   "source": [
    "X_train = np.matrix(X_trn)\n",
    "y_train = np.matrix(y_trn)\n",
    "X_test = np.matrix(X_tst)\n",
    "y_test = np.matrix(y_tst)\n",
    "y_train = np.where(y_train == 0, -1, 1)\n",
    "y_test = np.where(y_test == 0, -1, 1)\n",
    "K = np.dot(X_train, X_train.T)"
   ]
  },
  {
   "cell_type": "code",
   "execution_count": 5,
   "metadata": {
    "collapsed": true
   },
   "outputs": [],
   "source": [
    "def dual(X, y, b, alpha, i):\n",
    "    temp = np.multiply(alpha, y)\n",
    "    return temp.T * K[:, i] + b"
   ]
  },
  {
   "cell_type": "code",
   "execution_count": 6,
   "metadata": {
    "collapsed": true
   },
   "outputs": [],
   "source": [
    "def compute_eta(i, j):\n",
    "    return 2 * K[i, j] - K[i, i] - K[j, j]"
   ]
  },
  {
   "cell_type": "code",
   "execution_count": 7,
   "metadata": {
    "collapsed": true
   },
   "outputs": [],
   "source": [
    "def new_alphaj_value(alpha, y, Ei, Ej, eta, L, H):\n",
    "    temp = alpha - (y * (Ei - Ej)) / eta\n",
    "    if temp > H:\n",
    "        return H\n",
    "    elif temp < L:\n",
    "        return L\n",
    "    else:\n",
    "        return temp"
   ]
  },
  {
   "cell_type": "code",
   "execution_count": 8,
   "metadata": {
    "collapsed": true
   },
   "outputs": [],
   "source": [
    "def compute_b(b1, b2, alphai, alphaj, C):\n",
    "    if 0 < alphai and alphai < C:\n",
    "        return b1\n",
    "    elif 0 < alphaj and alphaj < C:\n",
    "        return b2\n",
    "    else:\n",
    "        return (b1 + b2) / 2"
   ]
  },
  {
   "cell_type": "code",
   "execution_count": 9,
   "metadata": {
    "collapsed": true
   },
   "outputs": [],
   "source": [
    "def smo(X, y, C, tolerance, max_passes):\n",
    "    X = X[: , 1:]\n",
    "    alpha = np.matrix(np.zeros(X.shape[0]))\n",
    "    alpha = alpha.T\n",
    "    b = 0\n",
    "    passes = 0\n",
    "    while passes < max_passes:\n",
    "        num_changed_alphas = 0\n",
    "        for i in range(len(X)):\n",
    "            Ei = dual(X, y, b, alpha, i) - y[i]\n",
    "            if (y[i] * Ei < -tolerance and alpha[i] < C) or (y[i] * Ei > tolerance and alpha[i] > 0):\n",
    "                j = np.random.choice(len(X))\n",
    "                while j == i:\n",
    "                    j = np.random.choice(len(X))\n",
    "                    \n",
    "                Ej = dual(X, y, b, alpha, j) - y[j]\n",
    "                old_alpha_i = alpha.item(i)\n",
    "                old_alpha_j = alpha.item(j)\n",
    "                \n",
    "                if y[i] != y[j]:\n",
    "                    L = max(0, alpha[j] - alpha[i])\n",
    "                    H = min(C, C + alpha[j] - alpha[i])\n",
    "                else:\n",
    "                    L = max(0, alpha[i] + alpha[j] - C)\n",
    "                    H = min(C, alpha[i] + alpha[j])\n",
    "                    \n",
    "                if L == H:\n",
    "                    continue\n",
    "                \n",
    "                eta = compute_eta(i, j)\n",
    "                if eta >= 0:\n",
    "                    continue\n",
    "                    \n",
    "                alpha[j] = new_alphaj_value(alpha[j], y[j], Ei, Ej, eta, L, H)\n",
    "                \n",
    "                if abs(alpha[j] - old_alpha_j) < 0.00001:\n",
    "                    continue\n",
    "                \n",
    "                alpha[i] = alpha[i] + (y[i] * y[j] * (old_alpha_j - alpha[j]))\n",
    "                \n",
    "#                 # Compute b1 and b2\n",
    "#                 b_1 = b - Ei - y[i]*(alpha[i] - old_alpha_i)* K[i,i] - y[j] *(alpha[j] - old_alpha_j)*K[i,j]\n",
    "#                 b_2 = b - Ej - y[i]*(alpha[i] - old_alpha_i)* K[i,j] - y[j] *(alpha[j] - old_alpha_j)*K[j,j]\n",
    "\n",
    "#                 b = b_1 if (alpha[i]>0 and alpha[i]<C) else(b_2 if (alpha[j]>0 and alpha[j]<C) else (b_1+b_2)/2)\n",
    "                \n",
    "                b1 = b - Ei - y[i] * (alpha[i] - old_alpha_i) * K[i, i] - y[j] * (alpha[j] - old_alpha_j) * K[i, j]\n",
    "                b2 = b - Ej - y[i] * (alpha[i] - old_alpha_i) * K[i, j] - y[j] * (alpha[j] - old_alpha_j) * K[j, j]\n",
    "                b = compute_b(b1, b2, alpha[i], alpha[j], C)\n",
    "                \n",
    "                num_changed_alphas += 1\n",
    "        if num_changed_alphas == 0:\n",
    "            passes += 1\n",
    "        else:\n",
    "            passes = 0\n",
    "    return alpha, b        \n",
    "                \n",
    "                "
   ]
  },
  {
   "cell_type": "code",
   "execution_count": 10,
   "metadata": {},
   "outputs": [
    {
     "name": "stdout",
     "output_type": "stream",
     "text": [
      "[[ 0.48520231]]\n"
     ]
    }
   ],
   "source": [
    "C=10\n",
    "tolerance = 0.0001\n",
    "max_passes = 3\n",
    "alpha, b = smo(X_train, y_train, C, tolerance, max_passes)\n",
    "print(b)"
   ]
  },
  {
   "cell_type": "code",
   "execution_count": 11,
   "metadata": {
    "collapsed": true
   },
   "outputs": [],
   "source": [
    "def calculate_theta_smo(X_train, y_train, alpha, b):\n",
    "    temp1 = np.matrix(np.multiply(alpha,y_train))\n",
    "    theta_smo = np.dot(temp1.T,X_train[:, 1:])\n",
    "    theta_smo = np.insert(theta_smo, 0, b)\n",
    "    return theta_smo"
   ]
  },
  {
   "cell_type": "code",
   "execution_count": 12,
   "metadata": {
    "collapsed": true
   },
   "outputs": [],
   "source": [
    "theta_smo = calculate_theta_smo(X_train, y_train, alpha, b)"
   ]
  },
  {
   "cell_type": "code",
   "execution_count": 13,
   "metadata": {
    "collapsed": true
   },
   "outputs": [],
   "source": [
    "def plotPrediction(X, y, theta, title = 'train set'):\n",
    "    X = np.concatenate((X, y), axis=1)\n",
    "    X = np.array(X)\n",
    "    X1 = X[np.ix_(X[:, 3] == -1, (1,2))]\n",
    "    X2 = X[np.ix_(X[:, 3] == 1, (1,2))]\n",
    "    minimum = np.floor(X2.min())\n",
    "    maximum = np.ceil(X2.max())\n",
    "    plt.scatter(X1[:, 0], X1[:, 1], marker='+', color=\"blue\", label=\"Class 0\")\n",
    "    plt.scatter(X2[:, 0], X2[:, 1], marker='o', color=\"green\", label=\"Class 1\")\n",
    "    x = np.linspace(-3, 3, 10)\n",
    "    theta=np.array(theta)\n",
    "    slope = -theta[:,1]/theta[:,2]\n",
    "    intercept = -theta[:, 0]/theta[:,2]\n",
    "    y_pred = slope*x + intercept\n",
    "    plt.ylim(minimum, maximum)\n",
    "    plt.plot(x, y_pred, color='red', label=\"Boundary\")\n",
    "    plt.title(title)\n",
    "    plt.legend()\n",
    "    plt.show()"
   ]
  },
  {
   "cell_type": "code",
   "execution_count": 14,
   "metadata": {},
   "outputs": [
    {
     "data": {
      "image/png": "[encoded data removed]",
      "text/plain": [
       "<matplotlib.figure.Figure at 0x119b8d400>"
      ]
     },
     "metadata": {},
     "output_type": "display_data"
    }
   ],
   "source": [
    "plotPrediction(X_train, y_train, theta_smo,\"training set\")"
   ]
  },
  {
   "cell_type": "code",
   "execution_count": 15,
   "metadata": {},
   "outputs": [
    {
     "data": {
      "image/png": "[encoded data removed]",
      "text/plain": [
       "<matplotlib.figure.Figure at 0x11d775cf8>"
      ]
     },
     "metadata": {},
     "output_type": "display_data"
    }
   ],
   "source": [
    "plotPrediction(X_test, y_test, theta_smo, \"test set\")"
   ]
  },
  {
   "cell_type": "code",
   "execution_count": 16,
   "metadata": {
    "collapsed": true
   },
   "outputs": [],
   "source": [
    "def predict(theta, X):  \n",
    "    y_predict = np.sign((X[:,1:] * theta[:,1:].T) + theta[:,0])\n",
    "    return y_predict"
   ]
  },
  {
   "cell_type": "code",
   "execution_count": 17,
   "metadata": {
    "collapsed": true
   },
   "outputs": [],
   "source": [
    "def classificationError(y, y_pred):\n",
    "    count = 0\n",
    "    for i in range(len(y)):\n",
    "        if y_pred[i] != y[i]:\n",
    "            count += 1\n",
    "    return count"
   ]
  },
  {
   "cell_type": "code",
   "execution_count": 18,
   "metadata": {
    "collapsed": true
   },
   "outputs": [],
   "source": [
    "def classification_error_print(X_train, y_train, theta):\n",
    "    y_pred = predict(theta, X_train)\n",
    "    classification_error = classificationError(y_train, y_pred)\n",
    "    classification_error_percent =  classification_error / len(y_pred) * 100\n",
    "    print(\"Miss-classified points:\", classification_error)\n",
    "    print(\"The classification error percent is: {:0.2f}%\".format(classification_error_percent))\n",
    "    print(\"The accuracy is: {:0.2f}%\".format(100 - classification_error_percent))"
   ]
  },
  {
   "cell_type": "code",
   "execution_count": 19,
   "metadata": {},
   "outputs": [
    {
     "name": "stdout",
     "output_type": "stream",
     "text": [
      "Miss-classified points: 1\n",
      "The classification error percent is: 0.74%\n",
      "The accuracy is: 99.26%\n"
     ]
    }
   ],
   "source": [
    "classification_error_print(X_train, y_train, theta_smo)"
   ]
  },
  {
   "cell_type": "code",
   "execution_count": 20,
   "metadata": {},
   "outputs": [
    {
     "name": "stdout",
     "output_type": "stream",
     "text": [
      "Miss-classified points: 0\n",
      "The classification error percent is: 0.00%\n",
      "The accuracy is: 100.00%\n"
     ]
    }
   ],
   "source": [
    "classification_error_print(X_test, y_test, theta_smo)"
   ]
  },
  {
   "cell_type": "markdown",
   "metadata": {
    "collapsed": true
   },
   "source": [
    "## Using SK learn"
   ]
  },
  {
   "cell_type": "code",
   "execution_count": 21,
   "metadata": {},
   "outputs": [
    {
     "name": "stderr",
     "output_type": "stream",
     "text": [
      "/Users/siddhantbenadikar/anaconda/lib/python3.6/site-packages/sklearn/utils/validation.py:526: DataConversionWarning: A column-vector y was passed when a 1d array was expected. Please change the shape of y to (n_samples, ), for example using ravel().\n",
      "  y = column_or_1d(y, warn=True)\n"
     ]
    },
    {
     "data": {
      "text/plain": [
       "LinearSVC(C=1.0, class_weight=None, dual=True, fit_intercept=True,\n",
       "     intercept_scaling=1, loss='squared_hinge', max_iter=1000,\n",
       "     multi_class='ovr', penalty='l2', random_state=0, tol=0.0001,\n",
       "     verbose=0)"
      ]
     },
     "execution_count": 21,
     "metadata": {},
     "output_type": "execute_result"
    }
   ],
   "source": [
    "clf = LinearSVC(random_state=0)\n",
    "clf.fit(X_train, y_train)"
   ]
  },
  {
   "cell_type": "code",
   "execution_count": 22,
   "metadata": {
    "collapsed": true
   },
   "outputs": [],
   "source": [
    "def classification_error_print_sklearn(X_train, y_train):\n",
    "    y_pred = clf.predict(X_train)\n",
    "    classification_error = classificationError(y_train, y_pred)\n",
    "    classification_error_percent =  classification_error / len(y_pred) * 100\n",
    "    print(\"Miss-classified points:\", classification_error)\n",
    "    print(\"The classification error percent is: {:0.2f}%\".format(classification_error_percent))\n",
    "    print(\"The accuracy is: {:0.2f}%\".format(100 - classification_error_percent))"
   ]
  },
  {
   "cell_type": "code",
   "execution_count": 23,
   "metadata": {},
   "outputs": [
    {
     "data": {
      "text/plain": [
       "1.0"
      ]
     },
     "execution_count": 23,
     "metadata": {},
     "output_type": "execute_result"
    }
   ],
   "source": [
    "clf.score(X_train, y_train)"
   ]
  },
  {
   "cell_type": "code",
   "execution_count": 24,
   "metadata": {},
   "outputs": [
    {
     "name": "stdout",
     "output_type": "stream",
     "text": [
      "Miss-classified points: 0\n",
      "The classification error percent is: 0.00%\n",
      "The accuracy is: 100.00%\n"
     ]
    }
   ],
   "source": [
    "classification_error_print_sklearn(X_train, y_train)"
   ]
  },
  {
   "cell_type": "code",
   "execution_count": 25,
   "metadata": {},
   "outputs": [
    {
     "name": "stdout",
     "output_type": "stream",
     "text": [
      "Miss-classified points: 0\n",
      "The classification error percent is: 0.00%\n",
      "The accuracy is: 100.00%\n"
     ]
    }
   ],
   "source": [
    "classification_error_print_sklearn(X_test, y_test)"
   ]
  },
  {
   "cell_type": "code",
   "execution_count": 26,
   "metadata": {
    "collapsed": true
   },
   "outputs": [],
   "source": [
    "theta_smo_sklearn = clf.coef_"
   ]
  },
  {
   "cell_type": "code",
   "execution_count": 27,
   "metadata": {},
   "outputs": [
    {
     "data": {
      "image/png": "[encoded data removed]",
      "text/plain": [
       "<matplotlib.figure.Figure at 0x11d888470>"
      ]
     },
     "metadata": {},
     "output_type": "display_data"
    }
   ],
   "source": [
    "plotPrediction(X_train, y_train, theta_smo_sklearn, \"train set\")"
   ]
  },
  {
   "cell_type": "code",
   "execution_count": 28,
   "metadata": {},
   "outputs": [
    {
     "data": {
      "image/png": "[encoded data removed]",
      "text/plain": [
       "<matplotlib.figure.Figure at 0x11d7e3b38>"
      ]
     },
     "metadata": {},
     "output_type": "display_data"
    }
   ],
   "source": [
    "plotPrediction(X_test, y_test, theta_smo_sklearn, \"test set\")"
   ]
  },
  {
   "cell_type": "code",
   "execution_count": 29,
   "metadata": {
    "collapsed": true
   },
   "outputs": [],
   "source": [
    "train_err_list = []\n",
    "test_err_list = []\n",
    "\n",
    "for c in range(1,11):\n",
    "    # Calculate α,b for training data\n",
    "    alpha,b = smo(X_train, y_train, c, tolerance, max_passes)\n",
    "    \n",
    "    # Calculate theta\n",
    "    temp = np.matrix(np.multiply(alpha,y_train))\n",
    "    theta_smo = np.dot(temp.T,X_train)\n",
    "    theta_smo[0,0] = b\n",
    "    theta_smo\n",
    "    \n",
    "    # Mis-classification Error on Training\n",
    "    y_pred = predict(theta_smo, X_train) \n",
    "    misclassified = classificationError(y_train, y_pred)\n",
    "    err = misclassified / len(y_pred) * 100\n",
    "    train_err_list.append(err)\n",
    "    \n",
    "    # Mis-classification Error on Test\n",
    "    y_pred = predict(theta_smo, X_test) \n",
    "    misclassified = classificationError(y_test, y_pred)\n",
    "    err = misclassified / len(y_pred) * 100\n",
    "    test_err_list.append(err)"
   ]
  },
  {
   "cell_type": "code",
   "execution_count": 30,
   "metadata": {},
   "outputs": [
    {
     "data": {
      "image/png": "[encoded data removed]",
      "text/plain": [
       "<matplotlib.figure.Figure at 0x11df2bef0>"
      ]
     },
     "metadata": {},
     "output_type": "display_data"
    }
   ],
   "source": [
    "fig, ax = plt.subplots(figsize=(12,8))  \n",
    "\n",
    "ax.plot(np.arange(1,11), train_err_list, '-', label='Training Error')\n",
    "ax.plot(np.arange(1,11), test_err_list, '--', label='Test Error')\n",
    "\n",
    "plt.legend()\n",
    "fig.tight_layout()\n",
    "plt.show()"
   ]
  },
  {
   "cell_type": "code",
   "execution_count": 31,
   "metadata": {
    "collapsed": true
   },
   "outputs": [],
   "source": [
    "def execute3b():\n",
    "    \n",
    "    path = \"ExtYaleB10.mat\"\n",
    "    col_name = 'train'\n",
    "\n",
    "    C = 10\n",
    "    tol = -1\n",
    "    max_passes = 10\n",
    "\n",
    "    X_trn, Y_trn = load_data(path, col_name)\n",
    "    X_trn = np.matrix(X_trn)\n",
    "    \n",
    "    # ----------------------- Train the 10 classifiers -------------------------\n",
    "    \n",
    "    classifiers = []\n",
    "    for i in range(10):\n",
    "        print(\"Training classifier #\", i)\n",
    "        curr_Y_trn = np.matrix(np.reshape(Y_trn[:, i], (Y_trn.shape[0], 1)))\n",
    "        A, b = smo(X_trn, curr_Y_trn, C, tol, max_passes)\n",
    "        classifiers.append((A, b))\n",
    "    \n",
    "    # ---------------------- Run the model on test data ------------------------\n",
    "\n",
    "    col_name = \"test\"\n",
    "\n",
    "    X_tst, Y_tst = load_data(path, col_name)\n",
    "    X_tst = np.matrix(X_tst)\n",
    "\n",
    "    misclassifications = 0\n",
    "\n",
    "    for i in range(10):    \n",
    "        curr_Y_trn = np.matrix(np.reshape(Y_trn[:, i], (Y_trn.shape[0], 1)))\n",
    "        curr_Y_tst = np.matrix(np.reshape(Y_tst[:, i], (Y_tst.shape[0], 1)))\n",
    "\n",
    "        A, b = classifiers[i]\n",
    "\n",
    "        Y_pred = classify(A, curr_Y_trn, X_trn, X_tst, b)\n",
    "\n",
    "        Y_tst_arr = curr_Y_tst.getA1()\n",
    "        Y_pred_arr = Y_pred.getA1()\n",
    "\n",
    "        misclassifications += np.sum(Y_tst_arr != Y_pred_arr)\n",
    "\n",
    "    print(\"Total Misclassifications in test data: \", misclassifications)"
   ]
  },
  {
   "cell_type": "code",
   "execution_count": null,
   "metadata": {
    "collapsed": true
   },
   "outputs": [],
   "source": [
    "execute3b"
   ]
  }
 ],
 "metadata": {
  "kernelspec": {
   "display_name": "Python 3",
   "language": "python",
   "name": "python3"
  },
  "language_info": {
   "codemirror_mode": {
    "name": "ipython",
    "version": 3
   },
   "file_extension": ".py",
   "mimetype": "text/x-python",
   "name": "python",
   "nbconvert_exporter": "python",
   "pygments_lexer": "ipython3",
   "version": "3.6.1"
  }
 },
 "nbformat": 4,
 "nbformat_minor": 2
}
