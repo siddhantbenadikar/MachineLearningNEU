{
 "cells": [
  {
   "cell_type": "code",
   "execution_count": 1,
   "metadata": {
    "collapsed": true
   },
   "outputs": [],
   "source": [
    "import numpy as np\n",
    "import pandas as pd\n",
    "import matplotlib.pyplot as plt\n",
    "import scipy.io as sio\n",
    "%matplotlib inline"
   ]
  },
  {
   "cell_type": "markdown",
   "metadata": {},
   "source": [
    "### Helper functions"
   ]
  },
  {
   "cell_type": "code",
   "execution_count": 2,
   "metadata": {
    "collapsed": true
   },
   "outputs": [],
   "source": [
    "# Loading data and transforming it to pandas dataframe\n",
    "def load_data(path, col_name):\n",
    "    data = sio.loadmat(path)\n",
    "    data = pd.DataFrame(data['Y'])\n",
    "    return data"
   ]
  },
  {
   "cell_type": "code",
   "execution_count": 3,
   "metadata": {
    "collapsed": true
   },
   "outputs": [],
   "source": [
    "# Getting the values and plotting it\n",
    "def plotCluster(Y, x1, x2):\n",
    "    f1 = np.ravel(Y[x1, :])\n",
    "    f2 = np.ravel(Y[x2, :])\n",
    "    plt.scatter(f1, f2, c='blue', s=7)\n",
    "    plt.show()"
   ]
  },
  {
   "cell_type": "code",
   "execution_count": 4,
   "metadata": {
    "collapsed": true
   },
   "outputs": [],
   "source": [
    "# Normalizes the data to get the mean to 0\n",
    "def normalize_mean(Y):\n",
    "    mu = Y.mean(0)\n",
    "    Y = Y - mu\n",
    "    return Y"
   ]
  },
  {
   "cell_type": "markdown",
   "metadata": {},
   "source": [
    "### PCA "
   ]
  },
  {
   "cell_type": "code",
   "execution_count": 5,
   "metadata": {
    "collapsed": true
   },
   "outputs": [],
   "source": [
    "def pca(Y, d):\n",
    "    Y = Y.T\n",
    "\n",
    "    # Normalize mean\n",
    "    Y = normalize_mean(Y)\n",
    "\n",
    "    # Find the correlation matrix\n",
    "    C = (Y.T * Y) / Y.shape[0]\n",
    "\n",
    "    # Do eigenvalue decomposition get the\n",
    "    # eigenvalues(W) and eigenvectors(V) of \n",
    "    # covariance matrix\n",
    "    W, V = np.linalg.eig(C)\n",
    "\n",
    "    # Extract the top-d eigenvectors\n",
    "    V = V[:, 0:d]\n",
    "    \n",
    "    # Represent data in this basis\n",
    "    X = Y * V\n",
    "    \n",
    "    # Calculate the mean of low-dimensional space\n",
    "    M_X = np.sum(X, axis=0) / X.shape[0]\n",
    "    \n",
    "    return V.T, M_X, X.T"
   ]
  },
  {
   "cell_type": "markdown",
   "metadata": {},
   "source": [
    "### Kernel PCA "
   ]
  },
  {
   "cell_type": "code",
   "execution_count": 6,
   "metadata": {
    "collapsed": true
   },
   "outputs": [],
   "source": [
    "def kernel_pca(K, d):\n",
    "    \n",
    "    # Initialize a column vector of 1's with\n",
    "    # N rows\n",
    "    ones = np.matrix(np.ones(K.shape[0])).T\n",
    "    \n",
    "    # Initialize a N x N identity matrix\n",
    "    I = np.identity(K.shape[0])\n",
    "    \n",
    "    # Calculate (I - (1 * 1.T) / N)\n",
    "    partial = I - ((ones * ones.T) / K.shape[0])\n",
    "    \n",
    "    # Compute K hat\n",
    "    K_hat = partial * K * partial\n",
    "    \n",
    "    # Do eigenvalue decomposition and get hold of \n",
    "    # the eigenvalues (W) and eigenvectors (V) of \n",
    "    # covariance matrix\n",
    "    W, V = np.linalg.eig(K_hat)\n",
    "    \n",
    "    # Extract the top-d eigenvectors\n",
    "    V = V[:, 0:d]\n",
    "    \n",
    "    # Represent data in this low-dimensional \n",
    "    # basis and return it\n",
    "    return (K_hat * V).T"
   ]
  },
  {
   "cell_type": "code",
   "execution_count": 7,
   "metadata": {
    "collapsed": true
   },
   "outputs": [],
   "source": [
    "def main():\n",
    "    data = load_data(\"HW3_Data/dataset1.mat\", 'Y')\n",
    "    Y = np.matrix(data.values)\n",
    "    K = np.dot(Y.T, Y)\n",
    "    U, mean, X_pca = pca(Y, 2)\n",
    "    X_kpca = kernel_pca(K, 2)\n",
    "    print(Y.shape)\n",
    "#     print(\"PCA\")\n",
    "#     print(\"Basis of low-dim subspace: \")\n",
    "#     print(U)\n",
    "#     print(\"Mean of subspace: \")\n",
    "#     print(mean)\n",
    "#     print(\"Low-dim representation: \")\n",
    "#     print(X_pca)\n",
    "#     print()\n",
    "#     print(\"KERNEL PCA\")\n",
    "#     print(\"Low-dim representation: \")\n",
    "#     print(X_kpca)\n",
    "    \n",
    "    #plotting original data representation 1st and 2nd feature\n",
    "    plotCluster(Y, 0, 1)\n",
    "    #plotting original data representation 2st and 3rd feature\n",
    "    plotCluster(Y, 1, 2)\n",
    "    #plotting original data representation after PCA\n",
    "    plotCluster(X_pca, 0, 1)\n",
    "    plotCluster(X_kpca, 0, 1)"
   ]
  },
  {
   "cell_type": "code",
   "execution_count": 8,
   "metadata": {},
   "outputs": [
    {
     "name": "stdout",
     "output_type": "stream",
     "text": [
      "(40, 200)\n"
     ]
    },
    {
     "data": {
      "image/png": "[encoded data removed]",
      "text/plain": [
       "<matplotlib.figure.Figure at 0x11ac70278>"
      ]
     },
     "metadata": {},
     "output_type": "display_data"
    },
    {
     "data": {
      "image/png": "[encoded data removed]",
      "text/plain": [
       "<matplotlib.figure.Figure at 0x11ecf7a90>"
      ]
     },
     "metadata": {},
     "output_type": "display_data"
    },
    {
     "data": {
      "image/png": "[encoded data removed]",
      "text/plain": [
       "<matplotlib.figure.Figure at 0x11f85bef0>"
      ]
     },
     "metadata": {},
     "output_type": "display_data"
    },
    {
     "name": "stderr",
     "output_type": "stream",
     "text": [
      "/Users/siddhantbenadikar/anaconda/lib/python3.6/site-packages/numpy/core/numeric.py:583: ComplexWarning: Casting complex values to real discards the imaginary part\n",
      "  return array(a, dtype, copy=False, order=order, subok=True)\n"
     ]
    },
    {
     "data": {
      "image/png": "[encoded data removed]",
      "text/plain": [
       "<matplotlib.figure.Figure at 0x11f943fd0>"
      ]
     },
     "metadata": {},
     "output_type": "display_data"
    }
   ],
   "source": [
    "if __name__ == '__main__':\n",
    "    main()"
   ]
  }
 ],
 "metadata": {
  "kernelspec": {
   "display_name": "Python 3",
   "language": "python",
   "name": "python3"
  },
  "language_info": {
   "codemirror_mode": {
    "name": "ipython",
    "version": 3
   },
   "file_extension": ".py",
   "mimetype": "text/x-python",
   "name": "python",
   "nbconvert_exporter": "python",
   "pygments_lexer": "ipython3",
   "version": "3.6.1"
  }
 },
 "nbformat": 4,
 "nbformat_minor": 2
}
